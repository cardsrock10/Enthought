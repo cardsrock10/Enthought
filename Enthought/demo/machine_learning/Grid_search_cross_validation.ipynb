{
 "cells": [
  {
   "cell_type": "markdown",
   "metadata": {},
   "source": [
    "# Crossvalidation with the GridSearchCV and Pipeline objects"
   ]
  },
  {
   "cell_type": "markdown",
   "metadata": {},
   "source": [
    "To help with common use cases for cross-validation, sklearn provides a few convenience objects, most notably the `GridSearchCV` object (to perform cross-validation on a grid of hyperparameters) and the `Pipeline` object (to train a sequence of estimators at the same time).\n",
    "\n",
    "In this demo, we illustrate the usage of these object on the \"diabetes\" dataset, which is shipped with sklearn.\n",
    "\n",
    "The dataset contains 10 input variables (age, sex, body mass index, average blood pressure, and six blood serum measurements), and one target variable (a measure of disease progression one year after the measurement of the input variables)."
   ]
  },
  {
   "cell_type": "code",
   "execution_count": 1,
   "metadata": {
    "collapsed": false
   },
   "outputs": [],
   "source": [
    "# A few useful imports and settings.\n",
    "%matplotlib inline\n",
    "\n",
    "import matplotlib.pyplot as plt\n",
    "import numpy as np\n",
    "import seaborn as sns\n",
    "sns.set_style('whitegrid')\n",
    "sns.set_context('notebook')\n",
    "\n",
    "from sklearn.cross_validation import train_test_split\n",
    "from sklearn import datasets, linear_model, preprocessing\n",
    "\n",
    "# Make notebook reproducible.\n",
    "random_state = np.random.RandomState(7374)"
   ]
  },
  {
   "cell_type": "code",
   "execution_count": 2,
   "metadata": {
    "collapsed": false
   },
   "outputs": [
    {
     "name": "stdout",
     "output_type": "stream",
     "text": [
      "Size of training set: 331\n",
      "Size of test set: 111\n"
     ]
    }
   ],
   "source": [
    "# Load the diabetes dataset, and split it in a training and a test set.\n",
    "diabetes = datasets.load_diabetes()\n",
    "\n",
    "x = diabetes.data\n",
    "t = diabetes.target\n",
    "x_train, x_test, t_train, t_test = train_test_split(\n",
    "    x, t, test_size=0.25, random_state=random_state)\n",
    "\n",
    "print 'Size of training set:', len(x_train)\n",
    "print 'Size of test set:', len(x_test)"
   ]
  },
  {
   "cell_type": "markdown",
   "metadata": {},
   "source": [
    "We are going to use a linear regression model, which is sensitive to the scale of the input variables. As a preprocessing step, we normalize all inputs to have zero mean and unit variance."
   ]
  },
  {
   "cell_type": "code",
   "execution_count": 3,
   "metadata": {
    "collapsed": false
   },
   "outputs": [],
   "source": [
    "scaler = preprocessing.StandardScaler()\n",
    "scaler.fit(x_train)\n",
    "x_test = scaler.transform(x_test)\n",
    "x_train = scaler.transform(x_train)"
   ]
  },
  {
   "cell_type": "markdown",
   "metadata": {},
   "source": [
    "For comparison, let's have a look at what we should do in order to manually perform cross-validation to select the `gamma` and `C` parameters for a Support Vector Regressor."
   ]
  },
  {
   "cell_type": "code",
   "execution_count": 4,
   "metadata": {
    "collapsed": false
   },
   "outputs": [
    {
     "data": {
      "text/plain": [
       "[(0.001, 100, 0.41779396946607339),\n",
       " (0.0016681005372000592, 100, 0.45561340476808732),\n",
       " (0.0027825594022071257, 100, 0.47148989516490569),\n",
       " (0.0046415888336127772, 100, 0.48082482143669114),\n",
       " (0.0077426368268112694, 100, 0.49647996595550853),\n",
       " (0.01291549665014884, 100, 0.49941020161219418),\n",
       " (0.021544346900318832, 100, 0.49863199418839665),\n",
       " (0.035938136638046257, 100, 0.48892513293946616),\n",
       " (0.059948425031894091, 100, 0.4766673067702154),\n",
       " (0.10000000000000001, 100, 0.43382441934463994)]"
      ]
     },
     "execution_count": 4,
     "metadata": {},
     "output_type": "execute_result"
    }
   ],
   "source": [
    "from sklearn.cross_validation import cross_val_score\n",
    "from sklearn.svm import SVR\n",
    "\n",
    "gammas = np.logspace(-3, -1, 10)\n",
    "Cs = [1, 10, 100]\n",
    "\n",
    "scores = []\n",
    "for gamma in gammas:\n",
    "    for C in Cs:\n",
    "        regr = SVR(gamma=gamma, C=C)\n",
    "        all_scores = cross_val_score(regr, x_train, t_train, cv=4)\n",
    "        scores.append((gamma, C, np.mean(all_scores)))\n",
    "\n",
    "scores"
   ]
  },
  {
   "cell_type": "markdown",
   "metadata": {},
   "source": [
    "... and we would still need to search for the parameters corresponding to the maximum average score.\n",
    "\n",
    "The `GridSearchCV` object eliminates the need to manually manage iterating over all parameters, and finding the optimal parameters setting. In the example below, we perform cross validation not only on the grid of parameters defined above, but also on the kernel type (`'linear'` vs `'rbf'`)."
   ]
  },
  {
   "cell_type": "code",
   "execution_count": 5,
   "metadata": {
    "collapsed": false
   },
   "outputs": [],
   "source": [
    "from sklearn.grid_search import GridSearchCV\n",
    "\n",
    "# This is a list of dictionary. Each dictionary defines a new full\n",
    "# grid, with a set of values for each of the parameters of an estimator.\n",
    "param_grid = [\n",
    "    {'kernel': ['linear'], 'C': Cs},\n",
    "    {'kernel': ['rbf'], 'gamma': gammas, 'C': Cs},\n",
    "]\n",
    "\n",
    "grid_search = GridSearchCV(SVR(), param_grid, cv=4)\n",
    "grid_search.fit(x_train, t_train);"
   ]
  },
  {
   "cell_type": "code",
   "execution_count": 6,
   "metadata": {
    "collapsed": false
   },
   "outputs": [
    {
     "data": {
      "text/plain": [
       "[mean: 0.47888, std: 0.09502, params: {'kernel': 'linear', 'C': 1},\n",
       " mean: 0.47403, std: 0.08574, params: {'kernel': 'linear', 'C': 10},\n",
       " mean: 0.46751, std: 0.08293, params: {'kernel': 'linear', 'C': 100},\n",
       " mean: -0.02227, std: 0.03689, params: {'kernel': 'rbf', 'C': 1, 'gamma': 0.001},\n",
       " mean: -0.01334, std: 0.03797, params: {'kernel': 'rbf', 'C': 1, 'gamma': 0.0016681005372000592},\n",
       " mean: 0.00041, std: 0.03770, params: {'kernel': 'rbf', 'C': 1, 'gamma': 0.0027825594022071257},\n",
       " mean: 0.01921, std: 0.03797, params: {'kernel': 'rbf', 'C': 1, 'gamma': 0.0046415888336127772},\n",
       " mean: 0.04654, std: 0.04075, params: {'kernel': 'rbf', 'C': 1, 'gamma': 0.0077426368268112694},\n",
       " mean: 0.07989, std: 0.04372, params: {'kernel': 'rbf', 'C': 1, 'gamma': 0.01291549665014884},\n",
       " mean: 0.11262, std: 0.04673, params: {'kernel': 'rbf', 'C': 1, 'gamma': 0.021544346900318832},\n",
       " mean: 0.13627, std: 0.04809, params: {'kernel': 'rbf', 'C': 1, 'gamma': 0.035938136638046257},\n",
       " mean: 0.14106, std: 0.04436, params: {'kernel': 'rbf', 'C': 1, 'gamma': 0.059948425031894091},\n",
       " mean: 0.11570, std: 0.03738, params: {'kernel': 'rbf', 'C': 1, 'gamma': 0.10000000000000001},\n",
       " mean: 0.08423, std: 0.04540, params: {'kernel': 'rbf', 'C': 10, 'gamma': 0.001},\n",
       " mean: 0.14175, std: 0.05538, params: {'kernel': 'rbf', 'C': 10, 'gamma': 0.0016681005372000592},\n",
       " mean: 0.21265, std: 0.06721, params: {'kernel': 'rbf', 'C': 10, 'gamma': 0.0027825594022071257},\n",
       " mean: 0.29512, std: 0.07586, params: {'kernel': 'rbf', 'C': 10, 'gamma': 0.0046415888336127772},\n",
       " mean: 0.37629, std: 0.07768, params: {'kernel': 'rbf', 'C': 10, 'gamma': 0.0077426368268112694},\n",
       " mean: 0.42934, std: 0.08716, params: {'kernel': 'rbf', 'C': 10, 'gamma': 0.01291549665014884},\n",
       " mean: 0.45914, std: 0.08797, params: {'kernel': 'rbf', 'C': 10, 'gamma': 0.021544346900318832},\n",
       " mean: 0.47213, std: 0.08350, params: {'kernel': 'rbf', 'C': 10, 'gamma': 0.035938136638046257},\n",
       " mean: 0.47766, std: 0.07724, params: {'kernel': 'rbf', 'C': 10, 'gamma': 0.059948425031894091},\n",
       " mean: 0.45363, std: 0.06624, params: {'kernel': 'rbf', 'C': 10, 'gamma': 0.10000000000000001},\n",
       " mean: 0.41746, std: 0.08914, params: {'kernel': 'rbf', 'C': 100, 'gamma': 0.001},\n",
       " mean: 0.45527, std: 0.09684, params: {'kernel': 'rbf', 'C': 100, 'gamma': 0.0016681005372000592},\n",
       " mean: 0.47118, std: 0.09596, params: {'kernel': 'rbf', 'C': 100, 'gamma': 0.0027825594022071257},\n",
       " mean: 0.48050, std: 0.09697, params: {'kernel': 'rbf', 'C': 100, 'gamma': 0.0046415888336127772},\n",
       " mean: 0.49619, std: 0.08859, params: {'kernel': 'rbf', 'C': 100, 'gamma': 0.0077426368268112694},\n",
       " mean: 0.49915, std: 0.08072, params: {'kernel': 'rbf', 'C': 100, 'gamma': 0.01291549665014884},\n",
       " mean: 0.49839, std: 0.07396, params: {'kernel': 'rbf', 'C': 100, 'gamma': 0.021544346900318832},\n",
       " mean: 0.48863, std: 0.07418, params: {'kernel': 'rbf', 'C': 100, 'gamma': 0.035938136638046257},\n",
       " mean: 0.47634, std: 0.08470, params: {'kernel': 'rbf', 'C': 100, 'gamma': 0.059948425031894091},\n",
       " mean: 0.43340, std: 0.11048, params: {'kernel': 'rbf', 'C': 100, 'gamma': 0.10000000000000001}]"
      ]
     },
     "execution_count": 6,
     "metadata": {},
     "output_type": "execute_result"
    }
   ],
   "source": [
    "# We can request the scores for each point on the grid.\n",
    "grid_search.grid_scores_"
   ]
  },
  {
   "cell_type": "code",
   "execution_count": 7,
   "metadata": {
    "collapsed": false
   },
   "outputs": [
    {
     "name": "stdout",
     "output_type": "stream",
     "text": [
      "Best regressor: SVR(C=100, cache_size=200, coef0=0.0, degree=3, epsilon=0.1,\n",
      "  gamma=0.01291549665014884, kernel='rbf', max_iter=-1, probability=False,\n",
      "  random_state=None, shrinking=True, tol=0.001, verbose=False)\n",
      "Best score on held-out data: 0.499148242982\n"
     ]
    }
   ],
   "source": [
    "# The GridCV object also keeps track of the best estimator\n",
    "best_regr = grid_search.best_estimator_\n",
    "print 'Best regressor:', best_regr\n",
    "print 'Best score on held-out data:', grid_search.best_score_"
   ]
  },
  {
   "cell_type": "code",
   "execution_count": 8,
   "metadata": {
    "collapsed": false
   },
   "outputs": [
    {
     "data": {
      "text/plain": [
       "[<matplotlib.lines.Line2D at 0x114ac6610>]"
      ]
     },
     "execution_count": 8,
     "metadata": {},
     "output_type": "execute_result"
    },
    {
     "data": {
      "image/png": "[encoded data removed]",
      "text/plain": [
       "<matplotlib.figure.Figure at 0x114a9cf90>"
      ]
     },
     "metadata": {},
     "output_type": "display_data"
    }
   ],
   "source": [
    "# Let's see how the r2 score depends on the parameter 'gamma'.\n",
    "best_C = best_regr.C\n",
    "gamma_scores = [score.mean_validation_score for score in grid_search.grid_scores_\n",
    "                if score.parameters['C']==100 and score.parameters['kernel']=='rbf']\n",
    "plt.plot(gammas, gamma_scores)"
   ]
  },
  {
   "cell_type": "code",
   "execution_count": 9,
   "metadata": {
    "collapsed": false
   },
   "outputs": [
    {
     "name": "stdout",
     "output_type": "stream",
     "text": [
      "Test score =  0.494984760594\n"
     ]
    }
   ],
   "source": [
    "# At the end of the cross-validation process, the best estimator is re-fit\n",
    "# with all the training data, and we can use the GridSearchCV object as\n",
    "# an estimator.\n",
    "y_test = grid_search.predict(x_test)\n",
    "print 'Test score = ', grid_search.score(x_test, t_test)"
   ]
  },
  {
   "cell_type": "markdown",
   "metadata": {},
   "source": [
    "The steps presented so far can be improved further. One (minor) problem with our example so far, is that the scaler object has been trained on the whole training data, while the cross-validation training is performed on subset of the training data. Ideally, the scaler should not see the held-out data, but rather trained with on the subset, as well.\n",
    "\n",
    "We can easily take this into account by create a `Pipeline`."
   ]
  },
  {
   "cell_type": "code",
   "execution_count": 10,
   "metadata": {
    "collapsed": false
   },
   "outputs": [
    {
     "data": {
      "text/plain": [
       "GridSearchCV(cv=4,\n",
       "       estimator=Pipeline(steps=[('scaler', StandardScaler(copy=True, with_mean=True, with_std=True)), ('regressor', SVR(C=1.0, cache_size=200, coef0=0.0, degree=3, epsilon=0.1, gamma=0.0,\n",
       "  kernel='rbf', max_iter=-1, probability=False, random_state=None,\n",
       "  shrinking=True, tol=0.001, verbose=False))]),\n",
       "       fit_params={}, iid=True, loss_func=None, n_jobs=1,\n",
       "       param_grid=[{'regressor__kernel': ['rbf'], 'regressor__gamma': array([ 0.001  ,  0.00167,  0.00278,  0.00464,  0.00774,  0.01292,\n",
       "        0.02154,  0.03594,  0.05995,  0.1    ]), 'regressor__C': [1, 10, 100]}],\n",
       "       pre_dispatch='2*n_jobs', refit=True, score_func=None, scoring=None,\n",
       "       verbose=0)"
      ]
     },
     "execution_count": 10,
     "metadata": {},
     "output_type": "execute_result"
    }
   ],
   "source": [
    "from sklearn.pipeline import Pipeline\n",
    "\n",
    "# Each tuple in the pipeline is ('name for estimator', estimator)\n",
    "workflow = Pipeline([('scaler', preprocessing.StandardScaler()), ('regressor', SVR())])\n",
    "\n",
    "# Note the naming convention used to refer to the parameters of a specific estimator in the pipeline.\n",
    "param_grid = [{'regressor__kernel': ['rbf'], 'regressor__gamma': gammas, 'regressor__C': Cs}]\n",
    "\n",
    "grid_search = GridSearchCV(workflow, param_grid, cv=4)\n",
    "grid_search.fit(x_train, t_train)"
   ]
  },
  {
   "cell_type": "code",
   "execution_count": 11,
   "metadata": {
    "collapsed": false
   },
   "outputs": [
    {
     "name": "stdout",
     "output_type": "stream",
     "text": [
      "Test score =  0.494984760594\n"
     ]
    }
   ],
   "source": [
    "# At the end of the cross-validation process, compute the final score\n",
    "# on the test set.\n",
    "y_test = grid_search.predict(x_test)\n",
    "print 'Test score = ', grid_search.score(x_test, t_test)"
   ]
  },
  {
   "cell_type": "code",
   "execution_count": 11,
   "metadata": {
    "collapsed": false
   },
   "outputs": [],
   "source": []
  }
 ],
 "metadata": {},
 "nbformat": 4,
 "nbformat_minor": 0
}