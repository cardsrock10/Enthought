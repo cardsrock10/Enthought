{
 "cells": [
  {
   "cell_type": "markdown",
   "metadata": {},
   "source": [
    "# HYPOTHESIS TESTING EXERCISES"
   ]
  },
  {
   "cell_type": "code",
   "execution_count": null,
   "metadata": {
    "collapsed": false
   },
   "outputs": [],
   "source": [
    "%matplotlib inline\n",
    "\n",
    "import numpy as np\n",
    "import pandas as pd\n",
    "import matplotlib.pyplot as plt\n",
    "import statsmodels.api as sm\n",
    "from scipy import stats"
   ]
  },
  {
   "cell_type": "markdown",
   "metadata": {},
   "source": [
    "## EXERCISE 1 - BENFORD'S LAW"
   ]
  },
  {
   "cell_type": "markdown",
   "metadata": {},
   "source": [
    "Verify the validity of Benford's law when applied to 1) the population of a country; 2) the number of breast cancer cases in each country.\n",
    "\n",
    "1. Collect a count of the first digits of all the numbers in the data sets.\n",
    "2. Use a statistical test to compare the observed count to the one expected by Benford's law."
   ]
  },
  {
   "cell_type": "code",
   "execution_count": null,
   "metadata": {
    "collapsed": false
   },
   "outputs": [],
   "source": [
    "# Load the data set from the `statsmodel` package.\n",
    "import statsmodels.api as sm\n",
    "data = sm.datasets.cancer.load_pandas()\n",
    "\n",
    "population = data.data['population']\n",
    "cancer = data.data['cancer']"
   ]
  },
  {
   "cell_type": "code",
   "execution_count": null,
   "metadata": {
    "collapsed": false
   },
   "outputs": [],
   "source": [
    "# Compute Benford's distribution.\n",
    "# This is the distribution we need to compare against.\n",
    "digits = np.arange(1, 10)\n",
    "benford_distribution = np.log10(1.0 + 1.0/digits)"
   ]
  },
  {
   "cell_type": "code",
   "execution_count": null,
   "metadata": {
    "collapsed": false
   },
   "outputs": [],
   "source": [
    "# Your code goes here!"
   ]
  },
  {
   "cell_type": "markdown",
   "metadata": {},
   "source": [
    "## EXERCISE 2 - SUNSPOTS"
   ]
  },
  {
   "cell_type": "markdown",
   "metadata": {},
   "source": [
    "Use a statistical test to check if the number of sunspots has increased significantly in the past 300 years.\n",
    "\n",
    "Given a yearly count of the number of sunspots, from 1700 to 2008:\n",
    "1. Divide the data into two halves.\n",
    "2. Compare the distribution of the two halves statistically. Are the two distributions significantly different?\n"
   ]
  },
  {
   "cell_type": "code",
   "execution_count": null,
   "metadata": {
    "collapsed": false
   },
   "outputs": [],
   "source": [
    "data = sm.datasets.sunspots.load_pandas()\n",
    "df = data.data\n",
    "df = df.set_index('YEAR')"
   ]
  },
  {
   "cell_type": "code",
   "execution_count": null,
   "metadata": {
    "collapsed": false
   },
   "outputs": [],
   "source": [
    "df.head()"
   ]
  },
  {
   "cell_type": "code",
   "execution_count": null,
   "metadata": {
    "collapsed": false
   },
   "outputs": [],
   "source": [
    "# Your code goes here!"
   ]
  },
  {
   "cell_type": "markdown",
   "metadata": {},
   "source": [
    "## EXERCISE 3 - AGE OF RENTERS"
   ]
  },
  {
   "cell_type": "markdown",
   "metadata": {},
   "source": [
    "Is the age of people who own their own house significantly different from the age of people who rent?\n",
    "\n",
    "We are given a data set containing 5 columns:\n",
    "```\n",
    "AVGEXP - Average expenditure on a credit card\n",
    "AGE - Age\n",
    "INCOME - Income\n",
    "INCOMESQ - Income squared\n",
    "OWNRENT - 1 if the subject owns its own house, 0 otherwise\n",
    "```\n",
    "\n",
    "1. Split the data set into owners and renters.\n",
    "2. Use an appropriate statistical test to check if the distribution of age in the two groups is significantly different."
   ]
  },
  {
   "cell_type": "code",
   "execution_count": null,
   "metadata": {
    "collapsed": false
   },
   "outputs": [],
   "source": [
    "data = sm.datasets.ccard.load_pandas()\n",
    "df = data.data"
   ]
  },
  {
   "cell_type": "code",
   "execution_count": null,
   "metadata": {
    "collapsed": false
   },
   "outputs": [],
   "source": [
    "df.head()"
   ]
  },
  {
   "cell_type": "code",
   "execution_count": null,
   "metadata": {
    "collapsed": false
   },
   "outputs": [],
   "source": [
    "# Your code goes here!"
   ]
  },
  {
   "cell_type": "markdown",
   "metadata": {},
   "source": [
    "## EXERCISE 4 - FAIR DIE"
   ]
  },
  {
   "cell_type": "markdown",
   "metadata": {},
   "source": [
    " A six-sided die is rolled 50 times, and the number of occurrences\n",
    "   of each side are recorded in the following table:\n",
    "\n",
    "      +-------------+------+------+------+------+------+------+\n",
    "      | Side        |   1  |   2  |   3  |   4  |   5  |   6  |\n",
    "      +-------------+------+------+------+------+------+------+\n",
    "      | Occurrences |   6  |   1  |   9  |   7  |  14  |  13  |\n",
    "      +-------------+------+------+------+------+------+------+\n",
    "\n",
    "   Is the die fair?   That is, is each side equally likely?"
   ]
  },
  {
   "cell_type": "code",
   "execution_count": null,
   "metadata": {
    "collapsed": false
   },
   "outputs": [],
   "source": [
    "# Your code goes here!"
   ]
  }
 ],
 "metadata": {},
 "nbformat": 4,
 "nbformat_minor": 0
}