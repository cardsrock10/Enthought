{
 "cells": [
  {
   "cell_type": "markdown",
   "metadata": {},
   "source": [
    "Selecting data structures\n",
    "=========================\n",
    "\n",
    "The following example, is based on some real-world code, but cleaned up a little to illustrate the concepts more clearly.  The data is an extract of [citation data](http://snap.stanford.edu/data/cit-HepTh.html) from [arxiv.org](arxive.org)'s High Energy Physics papers made available by the SNAP project.  They were originally pepared for the [2003 KDD cup](http://www.cs.cornell.edu/projects/kddcup/).\n",
    "\n",
    "The data is stored in a file with a tab-separated format like this:\n",
    "\n",
    "    # FromNodeId\tToNodeId\n",
    "    1001\t9304045\n",
    "    1001\t9308122\n",
    "    1001\t9309097\n",
    "    1001\t9311042\n",
    "    ...\n",
    "\n",
    "The first column stores the id of the paper, and the second the id of a paper cited by that paper.\n",
    "\n",
    "For more information about this data set, see:\n",
    "\n",
    "- J. Leskovec, J. Kleinberg and C. Faloutsos. Graphs over Time: Densification Laws, Shrinking Diameters and Possible Explanations. ACM SIGKDD International Conference on Knowledge Discovery and Data Mining (KDD), 2005.\n",
    "\n",
    "- J. Gehrke, P. Ginsparg, J. M. Kleinberg. Overview of the 2003 KDD Cup. SIGKDD Explorations 5(2): 149-151, 2003."
   ]
  },
  {
   "cell_type": "markdown",
   "metadata": {},
   "source": [
    "## Creating an inverse citation index"
   ]
  },
  {
   "cell_type": "markdown",
   "metadata": {},
   "source": [
    "The code here uses Pandas to read in the table into a data frame, and then iterates over it, building a reverse citation index in a dictionary (ie. for a given paper, which papers is it cited by?)\n",
    "\n"
   ]
  },
  {
   "cell_type": "code",
   "execution_count": 1,
   "metadata": {
    "collapsed": false
   },
   "outputs": [
    {
     "name": "stdout",
     "output_type": "stream",
     "text": [
      "Time taken: 173.704626\n",
      "Paper id 1001 was cited by: [5068, 7170, 7195, 11075, 104044, 105207, 112101, 209230, 212114, 212223]\n"
     ]
    }
   ],
   "source": [
    "import pandas as pd\n",
    "import time\n",
    "\n",
    "# get the CPU time at the start of reading data in\n",
    "t = time.clock()\n",
    "\n",
    "# read in the data\n",
    "df = pd.read_table('cit-HepTh.txt', sep='\\t', comment='#', names=['paper', 'citation'])\n",
    "\n",
    "# create an empty dictionary for the reverse citation index\n",
    "cited_dict = {}\n",
    "\n",
    "# for each row in the data frame\n",
    "for nline in xrange(0, df.shape[0]):\n",
    "    # get the id of the paper and cited paper\n",
    "    paper = df['paper'][nline]\n",
    "    citation = df['citation'][nline]\n",
    "\n",
    "    # if we haven't seen the cited paper before, add it to our index\n",
    "    if citation not in cited_dict.keys():\n",
    "        cited_dict[citation] = []\n",
    "\n",
    "    # add the citing paper to the list\n",
    "    cited_dict[citation].append(paper)\n",
    "\n",
    "print 'Time taken:', time.clock()-t\n",
    "\n",
    "print \"Paper id 1001 was cited by:\", cited_dict.get(1001, 0)"
   ]
  },
  {
   "cell_type": "markdown",
   "metadata": {},
   "source": [
    "This is very slow.  The data set is large, but not really huge: it has 27770 papers, with 352807 citation records. \n",
    "3 minutes is too slow for such a small data set!"
   ]
  },
  {
   "cell_type": "code",
   "execution_count": 2,
   "metadata": {
    "collapsed": false
   },
   "outputs": [
    {
     "name": "stdout",
     "output_type": "stream",
     "text": [
      "Number of papers cited by some other paper: 23180\n"
     ]
    }
   ],
   "source": [
    "# number of papers cited by some other paper\n",
    "print \"Number of papers cited by some other paper:\", len(cited_dict)"
   ]
  },
  {
   "cell_type": "markdown",
   "metadata": {},
   "source": [
    "So *why* does it take too long?\n",
    "\n",
    "The main reason that there is a problem is this line:\n",
    "\n",
    "    if citation not in cited_dict.keys():\n",
    "\n",
    "It seems like it should be straightforward, but when executed it:\n",
    "\n",
    "* `cited_dict.keys()` creates a new list containing the keys of the dictionary (which we just saw ends up with 23180 elements, so it's not small).\n",
    "* `not in` then linearly searches that list for a match.\n",
    "\n",
    "Fortunately, you can use `not in` with just the dictionary to get the same result without creating a new list, and with an O(1) search instead of a linear search."
   ]
  },
  {
   "cell_type": "code",
   "execution_count": 3,
   "metadata": {
    "collapsed": false
   },
   "outputs": [
    {
     "name": "stdout",
     "output_type": "stream",
     "text": [
      "Time taken: 8.594614\n",
      "Paper id 1001 was cited by: [5068, 7170, 7195, 11075, 104044, 105207, 112101, 209230, 212114, 212223]\n"
     ]
    }
   ],
   "source": [
    "t = time.clock()\n",
    "\n",
    "# read in the data\n",
    "df = pd.read_table('cit-HepTh.txt', sep='\\t', comment='#', names=['paper', 'citation'])\n",
    "\n",
    "# create an empty dictionary for the reverse citation index\n",
    "cited_dict = {}\n",
    "\n",
    "# for each row in the data frame\n",
    "for nline in xrange(0, df.shape[0]):\n",
    "    # get the id of the paper and cited paper\n",
    "    paper = df['paper'][nline]\n",
    "    citation = df['citation'][nline]\n",
    "\n",
    "    # if we haven't seen the cited paper before, add it to our index\n",
    "    if citation not in cited_dict:\n",
    "        cited_dict[citation] = []\n",
    "\n",
    "    # add the citing paper to the list\n",
    "    cited_dict[citation].append(paper)\n",
    "\n",
    "print 'Time taken:', time.clock()-t\n",
    "\n",
    "print \"Paper id 1001 was cited by:\", cited_dict.get(1001, 0)"
   ]
  },
  {
   "cell_type": "markdown",
   "metadata": {},
   "source": [
    "Just doing that gives a massive speedup.\n",
    "\n",
    "There are a few other tricks which can help as well, like the `setdefault()` method of dictionaries and extracting the values from the data frame (which gives a numpy array) and iterating over them directly. "
   ]
  },
  {
   "cell_type": "code",
   "execution_count": 4,
   "metadata": {
    "collapsed": false
   },
   "outputs": [
    {
     "name": "stdout",
     "output_type": "stream",
     "text": [
      "Time taken: 0.639104\n",
      "Paper id 1001 was cited by: [5068, 7170, 7195, 11075, 104044, 105207, 112101, 209230, 212114, 212223]\n"
     ]
    }
   ],
   "source": [
    "t = time.clock()\n",
    "\n",
    "# read in the data\n",
    "df = pd.read_table('cit-HepTh.txt', sep='\\t', comment='#', names=['paper', 'citation'])\n",
    "\n",
    "# create an empty dictionary for the reverse citation index\n",
    "cited_dict = {}\n",
    "\n",
    "# for each row in the data frame\n",
    "papers = df['paper'].values\n",
    "citations = df['citation'].values\n",
    "for nline in xrange(df.shape[0]):\n",
    "    citing_papers = cited_dict.setdefault(citations[nline], list())\n",
    "    citing_papers.append(papers[nline])\n",
    "\n",
    "print 'Time taken:', time.clock()-t\n",
    "\n",
    "print \"Paper id 1001 was cited by:\", cited_dict.get(1001, 0)"
   ]
  },
  {
   "cell_type": "markdown",
   "metadata": {},
   "source": [
    "This is realistically about as fast as you are likely to be able to get it to go."
   ]
  },
  {
   "cell_type": "markdown",
   "metadata": {},
   "source": [
    "## Efficient queries"
   ]
  },
  {
   "cell_type": "markdown",
   "metadata": {},
   "source": [
    "The choice of data structures is also affected by the kind of queries we are planning to do on them. In this case, for instance, we might want to ask questions like: \"Given a list of 'query' papers, find the papers that were cited by all of them.\""
   ]
  },
  {
   "cell_type": "code",
   "execution_count": 5,
   "metadata": {
    "collapsed": false
   },
   "outputs": [
    {
     "name": "stdout",
     "output_type": "stream",
     "text": [
      "Time taken: 0.23832\n",
      "Papers cited by all the papers in the query: [1001, 9610237, 9506144, 9507158]\n"
     ]
    }
   ],
   "source": [
    "t = time.clock()\n",
    "\n",
    "query = [5068, 7195]\n",
    "cited_by_all = []\n",
    "\n",
    "# For each entry in the dictionary...\n",
    "for cited, citing in cited_dict.items():\n",
    "    # ... verify if all the papers in `query` are among the citing papers.\n",
    "    for paper in query:\n",
    "        # If not, break out of the loop.\n",
    "        if paper not in citing:\n",
    "            break\n",
    "    else:\n",
    "        cited_by_all.append(cited)\n",
    "\n",
    "        \n",
    "print 'Time taken:', time.clock()-t\n",
    "print 'Papers cited by all the papers in the query:', cited_by_all"
   ]
  },
  {
   "cell_type": "markdown",
   "metadata": {},
   "source": [
    "In this case, we see that choosing lists for storing the citing papers is not optimal: we do not care about the order of the papers, and verifying if a paper is part of the list is O(N).\n",
    "\n",
    "If we store the citing papers in a set, instead, the same operation is only O(1). Even better, we can check if the set of query papers  is a subset of the set of citing papers, saving the for loop:"
   ]
  },
  {
   "cell_type": "code",
   "execution_count": 6,
   "metadata": {
    "collapsed": false
   },
   "outputs": [
    {
     "name": "stdout",
     "output_type": "stream",
     "text": [
      "Time taken: 0.014856\n",
      "set([9506144, 1001, 9610237, 9507158])\n"
     ]
    }
   ],
   "source": [
    "# Load the data, as in the previous examples.\n",
    "cited_dict = {}\n",
    "papers = df['paper'].values\n",
    "citations = df['citation'].values\n",
    "for nline in xrange(0, df.shape[0]):\n",
    "    # The citing papers are accumulated in a set, not a list.\n",
    "    citing_papers = cited_dict.setdefault(citations[nline], set())\n",
    "    citing_papers.add(papers[nline])\n",
    "\n",
    "t = time.clock()\n",
    "\n",
    "query = set([5068, 7195])\n",
    "cited_by_all = set()\n",
    "\n",
    "# For each entry in the dictionary...\n",
    "for cited, citing in cited_dict.items():\n",
    "    # ... verify if all the papers in `query` are among the citing papers.\n",
    "    if query <= citing:\n",
    "        cited_by_all.add(cited)\n",
    "        \n",
    "print 'Time taken:', time.clock()-t\n",
    "print cited_by_all"
   ]
  },
  {
   "cell_type": "markdown",
   "metadata": {},
   "source": [
    "## Line-by-line file processing [optional]"
   ]
  },
  {
   "cell_type": "markdown",
   "metadata": {},
   "source": [
    "Finally, pandas data reading routines are very fast, but it does have the problem that it loads all the data into memory at once.\n",
    "\n",
    "If you do it in pure Python, without using pandas, you can still do it pretty quickly, but with the advantage that it doesn't use as much memory:"
   ]
  },
  {
   "cell_type": "code",
   "execution_count": 7,
   "metadata": {
    "collapsed": false
   },
   "outputs": [
    {
     "name": "stdout",
     "output_type": "stream",
     "text": [
      "Time taken: 1.256692\n",
      "Paper id 1001 was cited by: set([7170, 11075, 112101, 5068, 104044, 209230, 212114, 105207, 7195, 212223])\n"
     ]
    }
   ],
   "source": [
    "t = time.clock()\n",
    "\n",
    "# create an empty dictionary for the reverse citation index\n",
    "cited_dict = {}\n",
    "\n",
    "# open the file for reading\n",
    "with open('cit-HepTh.txt') as fp:\n",
    "    for line in fp:\n",
    "        # skip comments\n",
    "        if line.startswith('#'):\n",
    "            continue\n",
    "        \n",
    "        # get data from the line\n",
    "        paper, citation = line.split()\n",
    "        \n",
    "        # convert strings to ints (not strictly needed)\n",
    "        paper = int(paper)\n",
    "        citation = int(citation)\n",
    "        \n",
    "        # append the paper to the list of citing papers (creating it if needed)\n",
    "        citing_papers = cited_dict.setdefault(citation, set())\n",
    "        citing_papers.add(paper)\n",
    "\n",
    "print 'Time taken:', time.clock()-t\n",
    "\n",
    "print \"Paper id 1001 was cited by:\", cited_dict.get(1001, 0)"
   ]
  },
  {
   "cell_type": "code",
   "execution_count": 7,
   "metadata": {
    "collapsed": false
   },
   "outputs": [],
   "source": [
    "\n"
   ]
  }
 ],
 "metadata": {},
 "nbformat": 4,
 "nbformat_minor": 0
}