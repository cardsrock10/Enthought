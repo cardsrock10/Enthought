{
 "cells": [
  {
   "cell_type": "markdown",
   "metadata": {},
   "source": [
    "# Extracting text features exercise"
   ]
  },
  {
   "cell_type": "markdown",
   "metadata": {},
   "source": [
    "The word \"Python\" can refer to both a snake and a programming language.\n",
    "\n",
    "In this exercise, we use the text vectorizers provided in `sklearn` to transform sentences into numerical vectors, and check if sentences using \"Python\" with the same meaning have similar vector representations.\n",
    "\n",
    "1. Use `CountVectorizer` to transform the sentences given below to numerical vectors, and print the result. Only set `lowercase=True` as input argument to `CountVectorizer`. (The output of the vectorizer is a sparse array; use the method `toarray()` to print the result as a regular Numpy array);\n",
    "2. Print the list of extracted features (see the `get_feature_names` method of `CountVectorizer`);\n",
    "3. Compute the pairwise distance between the vector representations of the sentences using the `cosine_distances` function, defined in `sklearn.metrics.pairwise` [1]. Which sentences are closer in the feature space?\n",
    "4. Repeat steps 1-3, removing stopwords (using the `stop_words` optional argument of `CountVectorizer`).\n",
    "5. Repeat steps 1-3 using a `TfidfVectorizer`.\n",
    "6. Finally, use `CountVectorizer` using your own processing method, including tokenization, normalization, and stemming (use the `analyzer` argument of `CountVectorizer` to use your processing method, as discussed in the class slides).\n",
    "\n",
    "[1] `cosine_distances` is a distance measure that is independent of the length of the vectors, see http://bit.ly/1DcbLZx for a detailed description"
   ]
  },
  {
   "cell_type": "code",
   "execution_count": 1,
   "metadata": {
    "collapsed": false
   },
   "outputs": [],
   "source": [
    "import numpy as np\n",
    "np.set_printoptions(precision=4, suppress=True)\n",
    "\n",
    "import nltk\n",
    "from sklearn.feature_extraction.text import CountVectorizer, TfidfVectorizer\n",
    "from sklearn.metrics.pairwise import cosine_distances\n",
    "\n",
    "documents = [\n",
    "   'Pythons are non-venomous but dangerous snakes.',\n",
    "   'Python is a great programming language!',\n",
    "   'A Python is a constricting snake.',\n",
    "   'Python and Matlab are popular languages in science.',\n",
    "]"
   ]
  },
  {
   "cell_type": "code",
   "execution_count": 2,
   "metadata": {
    "collapsed": false
   },
   "outputs": [],
   "source": [
    "# Your code goes here"
   ]
  },
  {
   "cell_type": "code",
   "execution_count": 8,
   "metadata": {
    "collapsed": false
   },
   "outputs": [],
   "source": []
  }
 ],
 "metadata": {},
 "nbformat": 4,
 "nbformat_minor": 0
}