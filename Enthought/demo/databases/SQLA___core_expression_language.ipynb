{
 "cells": [
  {
   "cell_type": "code",
   "execution_count": 1,
   "metadata": {
    "collapsed": false
   },
   "outputs": [],
   "source": [
    "from sqlalchemy import (create_engine, Column, ForeignKey,\n",
    "                        Integer, MetaData, String, Table)\n",
    "\n",
    "# Remove any existing database created in previous runs of this notebook.\n",
    "import os\n",
    "\n",
    "if os.path.isfile('tutorial.db'):\n",
    "    os.unlink('tutorial.db')"
   ]
  },
  {
   "cell_type": "markdown",
   "metadata": {},
   "source": [
    "### Set up a database \"engine\" that links to a database and populate it with data"
   ]
  },
  {
   "cell_type": "code",
   "execution_count": 2,
   "metadata": {
    "collapsed": false
   },
   "outputs": [],
   "source": [
    "engine = create_engine('sqlite:///tutorial.db')\n",
    "\n",
    "metadata = MetaData(bind=engine)\n",
    "\n",
    "users = Table('users', metadata,\n",
    "              Column('id', Integer, primary_key=True),\n",
    "              Column('name', String(40)),\n",
    "              Column('age', Integer),\n",
    "              Column('password', String))\n",
    " \n",
    "addresses = Table('addresses', metadata,\n",
    "                  Column('id', Integer, primary_key=True),\n",
    "                  Column('user_id', None, ForeignKey('users.id')),\n",
    "                  Column('email_address', String, nullable=False))\n",
    " \n",
    "# Create tables in database.\n",
    "# You can call it as often as you like. It always checks for the existence \n",
    "# of the specified table before trying to create it.\n",
    "metadata.create_all()"
   ]
  },
  {
   "cell_type": "markdown",
   "metadata": {},
   "source": [
    "### Connecting to an existing table"
   ]
  },
  {
   "cell_type": "code",
   "execution_count": 3,
   "metadata": {
    "collapsed": false
   },
   "outputs": [],
   "source": [
    "# \"autoload = True\" loads the column name and types from the existing table.\n",
    "users_again = Table(\"users\", metadata, autoload=True)"
   ]
  },
  {
   "cell_type": "markdown",
   "metadata": {},
   "source": [
    "### Inserting values"
   ]
  },
  {
   "cell_type": "code",
   "execution_count": 4,
   "metadata": {
    "collapsed": false
   },
   "outputs": [
    {
     "name": "stdout",
     "output_type": "stream",
     "text": [
      "INSERT INTO users (name, age, password) VALUES (?, ?, ?)\n",
      "{'age': 20, 'password': 'pass', 'name': 'Joe'}\n"
     ]
    }
   ],
   "source": [
    "# `users.insert()` Create an Insert object on the table `users`\n",
    "# The `values` method fills in the data to be used.\n",
    "insert1 = users.insert().values(name=\"Joe\", age=20, password=\"pass\")\n",
    "\n",
    "# The object does not communicate with the DB, it is a programmatic\n",
    "# way of creating a SQL command.\n",
    "# We can look at the command we have created by printing the object.\n",
    "print insert1\n",
    "# The placeholders will automatically be bound with the stored values.\n",
    "print insert1.parameters"
   ]
  },
  {
   "cell_type": "code",
   "execution_count": 5,
   "metadata": {
    "collapsed": false
   },
   "outputs": [],
   "source": [
    "# Create three insert commands...\n",
    "insert1 = users.insert().values(name=\"Joe\", age=20, password=\"pass\")\n",
    "insert2 = users.insert().values(name=\"Martha\", age=45, password=\"dingbat\")\n",
    "insert3 = users.insert().values(name=\"Martin\", age=33, password=\"1234\")\n",
    "\n",
    "# ... and commit them in the same transaction to the DB.\n",
    "with engine.connect() as conn:\n",
    "    conn.execute(insert1)\n",
    "    conn.execute(insert2)\n",
    "    conn.execute(insert3)\n",
    "\n",
    "# We did not have to write any SQL!"
   ]
  },
  {
   "cell_type": "code",
   "execution_count": 7,
   "metadata": {
    "collapsed": false
   },
   "outputs": [],
   "source": [
    "# Insert multiple items into the `addresses` table.\n",
    "with engine.connect() as conn:\n",
    "    # Here we pass the values in a list.\n",
    "    conn.execute(addresses.insert(), [ \n",
    "        {'user_id': 1, 'email_address' : 'jack@yahoo.com'},\n",
    "        {'user_id': 1, 'email_address' : 'jack@msn.com'},\n",
    "        {'user_id': 2, 'email_address' : 'www@www.org'},\n",
    "        {'user_id': 2, 'email_address' : 'wendy@aol.com'},\n",
    "    ])"
   ]
  },
  {
   "cell_type": "markdown",
   "metadata": {},
   "source": [
    "### SQL queries using the Core Expression Language"
   ]
  },
  {
   "cell_type": "code",
   "execution_count": 8,
   "metadata": {
    "collapsed": false
   },
   "outputs": [
    {
     "name": "stdout",
     "output_type": "stream",
     "text": [
      "SELECT users.id, users.name, users.age, users.password \n",
      "FROM users\n"
     ]
    }
   ],
   "source": [
    "from sqlalchemy.sql import select\n",
    "\n",
    "# Create a Select object to select all values from users\n",
    "s = select([users])\n",
    "\n",
    "# Again, we can look at the SQL command that the object represents\n",
    "print s"
   ]
  },
  {
   "cell_type": "code",
   "execution_count": 9,
   "metadata": {
    "collapsed": false
   },
   "outputs": [
    {
     "name": "stdout",
     "output_type": "stream",
     "text": [
      "All Users (one by one):\n",
      "(1, u'Joe', 20, u'pass')\n",
      "(2, u'Martha', 45, u'dingbat')\n",
      "(3, u'Martin', 33, u'1234')\n"
     ]
    }
   ],
   "source": [
    "# Execute the command.\n",
    "with engine.connect() as conn:\n",
    "    result = conn.execute(select([users]))\n",
    "\n",
    "    print 'All Users (one by one):'\n",
    "    for row in result:\n",
    "        print row"
   ]
  },
  {
   "cell_type": "code",
   "execution_count": 10,
   "metadata": {
    "collapsed": false
   },
   "outputs": [
    {
     "name": "stdout",
     "output_type": "stream",
     "text": [
      "SELECT users.name, users.age \n",
      "FROM users\n"
     ]
    }
   ],
   "source": [
    "# Select just the names and the ages from the `users` table.\n",
    "# `users.c` is the object representing all columns for table `users`\n",
    "s = select([users.c.name, users.c.age])\n",
    "print s"
   ]
  },
  {
   "cell_type": "code",
   "execution_count": 11,
   "metadata": {
    "collapsed": false
   },
   "outputs": [
    {
     "name": "stdout",
     "output_type": "stream",
     "text": [
      "User names and ages:\n",
      "(u'Joe', 20)\n",
      "(u'Martha', 45)\n",
      "(u'Martin', 33)\n"
     ]
    }
   ],
   "source": [
    "with engine.connect() as conn:\n",
    "    result = conn.execute(select([users.c.name, users.c.age]))\n",
    "\n",
    "    print 'User names and ages:'\n",
    "    for row in result: \n",
    "        print row"
   ]
  },
  {
   "cell_type": "code",
   "execution_count": 12,
   "metadata": {
    "collapsed": false
   },
   "outputs": [
    {
     "name": "stdout",
     "output_type": "stream",
     "text": [
      "SELECT users.id, users.name, users.age, users.password, addresses.id, addresses.user_id, addresses.email_address \n",
      "FROM users, addresses \n",
      "WHERE users.id = addresses.user_id\n"
     ]
    }
   ],
   "source": [
    "# Combining tables with rows that have matching IDs.\n",
    "s = select([users, addresses]).where(users.c.id==addresses.c.user_id)\n",
    "print s"
   ]
  },
  {
   "cell_type": "code",
   "execution_count": 13,
   "metadata": {
    "collapsed": false
   },
   "outputs": [
    {
     "name": "stdout",
     "output_type": "stream",
     "text": [
      "Users and Addresses:\n",
      "(1, u'Joe', 20, u'pass', 1, 1, u'jack@yahoo.com')\n",
      "(1, u'Joe', 20, u'pass', 2, 1, u'jack@msn.com')\n",
      "(2, u'Martha', 45, u'dingbat', 3, 2, u'www@www.org')\n",
      "(2, u'Martha', 45, u'dingbat', 4, 2, u'wendy@aol.com')\n"
     ]
    }
   ],
   "source": [
    "with engine.connect() as conn:\n",
    "    result = conn.execute(s)\n",
    "\n",
    "    print 'Users and Addresses:'\n",
    "    for row in result:\n",
    "        print row"
   ]
  },
  {
   "cell_type": "code",
   "execution_count": 14,
   "metadata": {
    "collapsed": false
   },
   "outputs": [
    {
     "name": "stdout",
     "output_type": "stream",
     "text": [
      "Users and Addresses:\n",
      "(2, u'Martha', 45, u'dingbat', 3, 2, u'www@www.org')\n",
      "(2, u'Martha', 45, u'dingbat', 4, 2, u'wendy@aol.com')\n"
     ]
    }
   ],
   "source": [
    "# Using logical operators in the selection.\n",
    "\n",
    "from sqlalchemy.sql import and_, or_, not_\n",
    "\n",
    "with engine.connect() as conn:\n",
    "    s = select([users, addresses]).where(and_(users.c.id==addresses.c.user_id,\n",
    "                                              users.c.age>25))\n",
    "    result = conn.execute(s)\n",
    "\n",
    "    print 'Users and Addresses:'\n",
    "    for row in result:\n",
    "        print row"
   ]
  },
  {
   "cell_type": "code",
   "execution_count": 15,
   "metadata": {
    "collapsed": false
   },
   "outputs": [
    {
     "name": "stdout",
     "output_type": "stream",
     "text": [
      "(2,)\n"
     ]
    }
   ],
   "source": [
    "# Count how many users are older than 21.\n",
    "s = select([users.c.id]).where(users.c.age>21).count()\n",
    "with engine.connect() as conn:\n",
    "    print conn.execute(s).fetchone()"
   ]
  },
  {
   "cell_type": "code",
   "execution_count": 16,
   "metadata": {
    "collapsed": false
   },
   "outputs": [
    {
     "name": "stdout",
     "output_type": "stream",
     "text": [
      "(1, u'Joe', 21, u'pass')\n"
     ]
    }
   ],
   "source": [
    "# Updating an existing row\n",
    "from sqlalchemy.sql import update\n",
    "\n",
    "# Create an Update object, etc...\n",
    "with engine.connect() as conn:\n",
    "    u = update(users).where(users.c.id==1).values(age=21)\n",
    "    conn.execute(u)\n",
    "\n",
    "with engine.connect() as conn:\n",
    "    s = select([users]).where(users.c.id==1)\n",
    "    print conn.execute(s).fetchone()"
   ]
  },
  {
   "cell_type": "markdown",
   "metadata": {},
   "source": [
    "### Using join"
   ]
  },
  {
   "cell_type": "code",
   "execution_count": 17,
   "metadata": {
    "collapsed": false
   },
   "outputs": [
    {
     "name": "stdout",
     "output_type": "stream",
     "text": [
      "users JOIN addresses ON users.id = addresses.user_id\n"
     ]
    }
   ],
   "source": [
    "# Clearly, we need a Join object representing a JOIN SQL statement\n",
    "user_address_join = users.join(addresses)\n",
    "print user_address_join"
   ]
  },
  {
   "cell_type": "code",
   "execution_count": 19,
   "metadata": {
    "collapsed": false
   },
   "outputs": [
    {
     "name": "stdout",
     "output_type": "stream",
     "text": [
      "Users and Addresses:\n",
      "(u'Joe', u'jack@yahoo.com')\n",
      "(u'Joe', u'jack@msn.com')\n",
      "(u'Martha', u'www@www.org')\n",
      "(u'Martha', u'wendy@aol.com')\n"
     ]
    }
   ],
   "source": [
    "with engine.connect() as conn:\n",
    "    s = select([users.c.name, addresses.c.email_address], from_obj=user_address_join)\n",
    "    result = conn.execute(s)\n",
    "\n",
    "    print 'Users and Addresses:'\n",
    "    for row in result:\n",
    "        print row"
   ]
  },
  {
   "cell_type": "code",
   "execution_count": 19,
   "metadata": {
    "collapsed": false
   },
   "outputs": [],
   "source": []
  }
 ],
 "metadata": {},
 "nbformat": 4,
 "nbformat_minor": 0
}