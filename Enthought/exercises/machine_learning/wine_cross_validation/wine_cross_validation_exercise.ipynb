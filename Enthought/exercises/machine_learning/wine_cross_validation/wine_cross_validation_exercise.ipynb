{
 "cells": [
  {
   "cell_type": "markdown",
   "metadata": {},
   "source": [
    "# WINE CROSS-VALIDATION EXERCISE"
   ]
  },
  {
   "cell_type": "code",
   "execution_count": null,
   "metadata": {
    "collapsed": false
   },
   "outputs": [],
   "source": [
    "# Activate inline plots.\n",
    "%matplotlib inline\n",
    "\n",
    "# Useful imports for the exercises.\n",
    "import numpy as np\n",
    "import pandas as pd\n",
    "import matplotlib.pyplot as plt\n",
    "import seaborn as sns\n",
    "\n",
    "sns.set_style('white')"
   ]
  },
  {
   "cell_type": "markdown",
   "metadata": {},
   "source": [
    "## EXERCISE 1"
   ]
  },
  {
   "cell_type": "markdown",
   "metadata": {},
   "source": [
    "Revise the results of the \"wine regression\" exercise using cross-validation to set the hyper-parameters.\n",
    "\n",
    "Use your favorite method, or if you don't have one, try setting the \"alpha\" parameter \n",
    "for a Ridge regressor."
   ]
  },
  {
   "cell_type": "code",
   "execution_count": null,
   "metadata": {
    "collapsed": false
   },
   "outputs": [],
   "source": [
    "# Read the data and print some summary information.\n",
    "df = pd.read_table('data/wine_quality-red.csv', sep=';')"
   ]
  },
  {
   "cell_type": "code",
   "execution_count": null,
   "metadata": {
    "collapsed": false
   },
   "outputs": [],
   "source": [
    "# List of column names containing all the features for regression.\n",
    "features = df.columns.difference(['quality'])\n",
    "# The name of the column for the output varaible.\n",
    "target = 'quality'"
   ]
  },
  {
   "cell_type": "markdown",
   "metadata": {},
   "source": [
    "We start with some pre-processing:\n",
    "\n",
    "1. Divide the data in a training and a test set (to evaluate the algorith *after* cross-validation)\n",
    "2. Transform non-gaussian variables through a non-linearity"
   ]
  },
  {
   "cell_type": "code",
   "execution_count": null,
   "metadata": {
    "collapsed": false
   },
   "outputs": [],
   "source": [
    "from sklearn.cross_validation import train_test_split\n",
    "\n",
    "x = df[features]\n",
    "t = np.squeeze(df[target])\n",
    "\n",
    "# Divide the data into a training and a test set.\n",
    "random_state = 0  # Fixed so that everybody has got the same split\n",
    "test_set_fraction = 0.2\n",
    "x_train, x_test, t_train, t_test = train_test_split(x, t, test_size=test_set_fraction, \n",
    "                                                    random_state=random_state)\n",
    "\n",
    "print 'Size of training set:', len(x_train)\n",
    "print 'Size of test set:', len(x_test)"
   ]
  },
  {
   "cell_type": "code",
   "execution_count": null,
   "metadata": {
    "collapsed": false
   },
   "outputs": [],
   "source": [
    "# Transform non-gaussian variables using a log transform.\n",
    "cols = ['alcohol', 'chlorides', 'citric acid', 'free sulfur dioxide', 'residual sugar', 'total sulfur dioxide']\n",
    "df[cols] = df[cols].apply(lambda x: np.log(x + 0.1))"
   ]
  },
  {
   "cell_type": "code",
   "execution_count": null,
   "metadata": {
    "collapsed": false
   },
   "outputs": [],
   "source": [
    "# Your code goes here!\n",
    "\n",
    "# For your convenience, this is a sketch of the solution in pseudo-code\n",
    "# when using the \"Ridge\" regressor, and optimizing over the parameter `alpha`:\n",
    "\n",
    "# Create a list of alphas\n",
    "# Create a Pipeline object containing a StandardScaler and a Ridge regressor\n",
    "# Create a parameter grid with a list of alphas\n",
    "# Train a GridSearchCV object with the training data\n",
    "# Evaluate on the test set\n"
   ]
  }
 ],
 "metadata": {
  "kernelspec": {
   "display_name": "Python 2",
   "language": "python",
   "name": "python2"
  },
  "language_info": {
   "codemirror_mode": {
    "name": "ipython",
    "version": 2
   },
   "file_extension": ".py",
   "mimetype": "text/x-python",
   "name": "python",
   "nbconvert_exporter": "python",
   "pygments_lexer": "ipython2",
   "version": "2.7.11"
  }
 },
 "nbformat": 4,
 "nbformat_minor": 0
}
