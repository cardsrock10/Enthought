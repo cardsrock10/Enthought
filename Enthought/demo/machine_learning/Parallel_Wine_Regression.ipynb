{
 "cells": [
  {
   "cell_type": "markdown",
   "metadata": {},
   "source": [
    "# Parallel wine regression"
   ]
  },
  {
   "cell_type": "code",
   "execution_count": 2,
   "metadata": {
    "collapsed": false
   },
   "outputs": [],
   "source": [
    "# Activate inline plots.\n",
    "%matplotlib inline\n",
    "\n",
    "# Useful imports for the exercises.\n",
    "import numpy as np\n",
    "import pandas as pd\n",
    "import matplotlib.pyplot as plt\n",
    "import seaborn as sns\n",
    "\n",
    "sns.set_style('white')"
   ]
  },
  {
   "cell_type": "markdown",
   "metadata": {},
   "source": [
    "We are going to briefly revisit the dataset used for the \"wine regression\" exercise to show the built-in parallel processing capabilities of sklearn."
   ]
  },
  {
   "cell_type": "code",
   "execution_count": 5,
   "metadata": {
    "collapsed": false
   },
   "outputs": [],
   "source": [
    "# Read the data and print some summary information.\n",
    "df = pd.read_table('data/winequality-red.csv', sep=';')\n",
    "# List of column names containing all the features for regression.\n",
    "features = df.columns - ['quality']\n",
    "# The name of the column for the output varaible.\n",
    "target = 'quality'"
   ]
  },
  {
   "cell_type": "code",
   "execution_count": 6,
   "metadata": {
    "collapsed": false
   },
   "outputs": [
    {
     "name": "stdout",
     "output_type": "stream",
     "text": [
      "Size of training set: 1279\n",
      "Size of test set: 320\n"
     ]
    }
   ],
   "source": [
    "from sklearn.cross_validation import train_test_split\n",
    "\n",
    "x = df[features]\n",
    "t = np.squeeze(df[target])\n",
    "\n",
    "# Divide the data into a training and a test set.\n",
    "random_state = 0  # Fixed so that everybody has got the same split\n",
    "test_set_fraction = 0.2\n",
    "x_train, x_test, t_train, t_test = train_test_split(x, t, test_size=test_set_fraction, \n",
    "                                                    random_state=random_state)\n",
    "\n",
    "print 'Size of training set:', len(x_train)\n",
    "print 'Size of test set:', len(x_test)\n"
   ]
  },
  {
   "cell_type": "markdown",
   "metadata": {},
   "source": [
    "We're going to set up two random forest regressors with a large number of estimators, with and without parallelization, and measure the time they need to fit they parameters."
   ]
  },
  {
   "cell_type": "code",
   "execution_count": 18,
   "metadata": {
    "collapsed": false
   },
   "outputs": [],
   "source": [
    "from sklearn import ensemble\n",
    "regr = ensemble.ExtraTreesRegressor(n_estimators=10000, max_depth=35)\n",
    "regr_parallel = ensemble.ExtraTreesRegressor(n_estimators=10000, max_depth=35,\n",
    "                                             n_jobs=8)"
   ]
  },
  {
   "cell_type": "code",
   "execution_count": 19,
   "metadata": {
    "collapsed": false
   },
   "outputs": [
    {
     "name": "stdout",
     "output_type": "stream",
     "text": [
      "Time (s): 29.1831421852\n"
     ]
    }
   ],
   "source": [
    "# First, without parallelization.\n",
    "import time\n",
    "start = time.time()\n",
    "regr.fit(x_train, t_train)\n",
    "print 'Time (s):', time.time() - start"
   ]
  },
  {
   "cell_type": "code",
   "execution_count": 20,
   "metadata": {
    "collapsed": false
   },
   "outputs": [
    {
     "name": "stdout",
     "output_type": "stream",
     "text": [
      "Time (s): 12.0083200932\n"
     ]
    }
   ],
   "source": [
    "# Then, with parallelization (turn on activity monitor to see\n",
    "# active cores).\n",
    "start = time.time()\n",
    "regr_parallel.fit(x_train, t_train)\n",
    "print 'Time (s):', time.time() - start"
   ]
  },
  {
   "cell_type": "code",
   "execution_count": 21,
   "metadata": {
    "collapsed": false
   },
   "outputs": [
    {
     "name": "stdout",
     "output_type": "stream",
     "text": [
      "Training R^2 = 1.0000\n",
      "    Test R^2 = 0.4544\n"
     ]
    }
   ],
   "source": [
    "y_test = regr_parallel.predict(x_test)\n",
    "print 'Training R^2 = {:.4f}'.format(regr_parallel.score(x_train, t_train))\n",
    "print '    Test R^2 = {:.4f}'.format(regr_parallel.score(x_test, t_test))"
   ]
  },
  {
   "cell_type": "code",
   "execution_count": 22,
   "metadata": {
    "collapsed": false
   },
   "outputs": [
    {
     "data": {
      "image/png": "[encoded data removed]",
      "text/plain": [
       "<matplotlib.figure.Figure at 0x1197bb750>"
      ]
     },
     "metadata": {},
     "output_type": "display_data"
    }
   ],
   "source": [
    "def plot_target_vs_prediction(t_test, y_test):\n",
    "    x = t_test + np.random.randn(*t_test.shape) * 0.1\n",
    "    plt.scatter(x, y_test, alpha=0.7)\n",
    "    plt.xlabel('Target (test)')\n",
    "    plt.ylabel('Predicted (test)')\n",
    "    plt.gcf().set_size_inches(6, 6)\n",
    "\n",
    "plot_target_vs_prediction(t_test, y_test)"
   ]
  },
  {
   "cell_type": "code",
   "execution_count": null,
   "metadata": {
    "collapsed": false
   },
   "outputs": [],
   "source": []
  }
 ],
 "metadata": {},
 "nbformat": 4,
 "nbformat_minor": 0
}