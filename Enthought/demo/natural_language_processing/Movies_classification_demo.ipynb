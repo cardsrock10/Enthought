{
 "cells": [
  {
   "cell_type": "markdown",
   "metadata": {},
   "source": [
    "# Movies classification demo"
   ]
  },
  {
   "cell_type": "markdown",
   "metadata": {},
   "source": [
    "NLTK contains a \"Movie Review\" corpus containing 2000 movie reviews classified in \"positive\" and \"negative\" reviews.\n",
    "\n",
    "Here we want to use NLP to learn to automatically classify good and bad movies, based on individual reviews."
   ]
  },
  {
   "cell_type": "code",
   "execution_count": 1,
   "metadata": {
    "collapsed": false
   },
   "outputs": [],
   "source": [
    "# A few useful imports.\n",
    "%matplotlib inline\n",
    "\n",
    "import numpy as np\n",
    "import matplotlib.pyplot as plt\n",
    "import seaborn as sns\n",
    "\n",
    "sns.set_style('whitegrid')"
   ]
  },
  {
   "cell_type": "markdown",
   "metadata": {},
   "source": [
    "We'll start by loading the raw texts and the review class (\"pos\" or \"neg\") in two lists."
   ]
  },
  {
   "cell_type": "code",
   "execution_count": 2,
   "metadata": {
    "collapsed": false
   },
   "outputs": [
    {
     "name": "stdout",
     "output_type": "stream",
     "text": [
      "a movie like mortal kombat : annihilation works ( and must be reviewed on ) multiple levels . \n",
      "first , there's the rampant usage of randian subtext that pervades the entire movie . \n",
      "but occasionaly , almost as if making an ironic , self-depreciating remark , the movie tosses in clearly marxist imagery . \n",
      "no no . . . \n",
      "just kidding . \n",
      "had you going there for a moment , didn't i ? \n",
      "in all seriousness\n"
     ]
    }
   ],
   "source": [
    "# Importing the \"Movie Reviews\" corpus.\n",
    "from nltk.corpus import movie_reviews\n",
    "\n",
    "# A snippet of text from one of the reviews the corpus.\n",
    "text = movie_reviews.raw(fileids=movie_reviews.fileids()[13])\n",
    "print text[:400]"
   ]
  },
  {
   "cell_type": "code",
   "execution_count": 3,
   "metadata": {
    "collapsed": false
   },
   "outputs": [],
   "source": [
    "# Collect all reviews and their label (\"pos\" or \"neg\") from the corpus.\n",
    "reviews = []\n",
    "labels = []\n",
    "for file_id in movie_reviews.fileids():\n",
    "    reviews.append(movie_reviews.raw(file_id))\n",
    "    labels.append(movie_reviews.categories([file_id])[0])"
   ]
  },
  {
   "cell_type": "markdown",
   "metadata": {},
   "source": [
    "We should have a look at some basic statistics: do reviews contain enough information to be useful? Is the data set balanced?"
   ]
  },
  {
   "cell_type": "code",
   "execution_count": 4,
   "metadata": {
    "collapsed": false
   },
   "outputs": [
    {
     "data": {
      "image/png": "[encoded data removed]",
      "text/plain": [
       "<matplotlib.figure.Figure at 0x115060c90>"
      ]
     },
     "metadata": {},
     "output_type": "display_data"
    }
   ],
   "source": [
    "# Reviews are quite lengthy, so there should be enough information in each.\n",
    "review_lengths = [len(review.split()) for review in reviews]\n",
    "plt.hist(review_lengths)\n",
    "plt.xlabel('Number of tokens'.format(len(reviews)));"
   ]
  },
  {
   "cell_type": "code",
   "execution_count": 5,
   "metadata": {
    "collapsed": false
   },
   "outputs": [
    {
     "name": "stdout",
     "output_type": "stream",
     "text": [
      "Number of positive reviews = 1000; negative reviews = 1000\n"
     ]
    }
   ],
   "source": [
    "# It's a balanced data set with 1000 positive and 1000 negative reviews.\n",
    "n_pos = (np.array(labels) == 'pos').sum()\n",
    "n_neg = len(labels) - n_pos\n",
    "print \"Number of positive reviews = {}; negative reviews = {}\".format(n_pos, n_neg)"
   ]
  },
  {
   "cell_type": "markdown",
   "metadata": {},
   "source": [
    "We set aside 30% of the data set to test the classifier."
   ]
  },
  {
   "cell_type": "code",
   "execution_count": 6,
   "metadata": {
    "collapsed": false
   },
   "outputs": [
    {
     "name": "stdout",
     "output_type": "stream",
     "text": [
      "# train data points = 1400, # test = 600\n"
     ]
    }
   ],
   "source": [
    "# Divide the data into a training and a test set.\n",
    "from sklearn.cross_validation import train_test_split\n",
    "# Fixed to make the notebook reproducible.\n",
    "random_state = np.random.RandomState(3939)\n",
    "\n",
    "test_set_fraction = 0.3\n",
    "reviews_train, reviews_test, t_train, t_test = train_test_split(\n",
    "    reviews, labels, test_size=test_set_fraction, random_state=random_state)\n",
    "print '# train data points = {}, # test = {}'.format(len(reviews_train), len(reviews_test))"
   ]
  },
  {
   "cell_type": "markdown",
   "metadata": {},
   "source": [
    "To extract features from the reviews, we are going to use word counts after normalizing to lowercase and removing stopwords."
   ]
  },
  {
   "cell_type": "code",
   "execution_count": 10,
   "metadata": {
    "collapsed": false
   },
   "outputs": [],
   "source": [
    "from sklearn.feature_extraction.text import CountVectorizer\n",
    "\n",
    "vectorizer = CountVectorizer(\n",
    "    stop_words='english', lowercase=True, binary=False, min_df=0.01)\n",
    "features_train = vectorizer.fit_transform(reviews_train)"
   ]
  },
  {
   "cell_type": "code",
   "execution_count": 11,
   "metadata": {
    "collapsed": false
   },
   "outputs": [
    {
     "name": "stdout",
     "output_type": "stream",
     "text": [
      "Number of features: 4563\n"
     ]
    }
   ],
   "source": [
    "# How long is each feature vector?\n",
    "print 'Number of features:', features_train.shape[1]"
   ]
  },
  {
   "cell_type": "code",
   "execution_count": 13,
   "metadata": {
    "collapsed": false
   },
   "outputs": [
    {
     "name": "stdout",
     "output_type": "stream",
     "text": [
      "[u'000', u'anger', u'belief', u'caring', u'commentary', u'currently', u'disney', u'esque', u'finished', u'grant', u'hours', u'jeff', u'line', u'mickey', u'novel', u'pig', u'pure', u'richard', u'set', u'spirited', u'suspects', u'treated', u'waitress']\n"
     ]
    }
   ],
   "source": [
    "# Print a sample of features.\n",
    "print vectorizer.get_feature_names()[::200]"
   ]
  },
  {
   "cell_type": "markdown",
   "metadata": {},
   "source": [
    "A Naive Bayes classifier is fit on the training set."
   ]
  },
  {
   "cell_type": "code",
   "execution_count": 14,
   "metadata": {
    "collapsed": false
   },
   "outputs": [
    {
     "data": {
      "text/plain": [
       "MultinomialNB(alpha=1.0, class_prior=None, fit_prior=True)"
      ]
     },
     "execution_count": 14,
     "metadata": {},
     "output_type": "execute_result"
    }
   ],
   "source": [
    "from sklearn.naive_bayes import MultinomialNB\n",
    "\n",
    "classifier = MultinomialNB()\n",
    "classifier.fit(features_train, t_train)"
   ]
  },
  {
   "cell_type": "markdown",
   "metadata": {},
   "source": [
    "Now we can measure the performance on the test set:"
   ]
  },
  {
   "cell_type": "code",
   "execution_count": 15,
   "metadata": {
    "collapsed": false
   },
   "outputs": [
    {
     "data": {
      "text/plain": [
       "0.82999999999999996"
      ]
     },
     "execution_count": 15,
     "metadata": {},
     "output_type": "execute_result"
    }
   ],
   "source": [
    "from sklearn.metrics import classification_report, confusion_matrix\n",
    "feature_test = vectorizer.transform(reviews_test)\n",
    "classifier.score(feature_test, t_test)"
   ]
  },
  {
   "cell_type": "code",
   "execution_count": 16,
   "metadata": {
    "collapsed": false
   },
   "outputs": [
    {
     "data": {
      "text/plain": [
       "array([[240,  46],\n",
       "       [ 56, 258]])"
      ]
     },
     "execution_count": 16,
     "metadata": {},
     "output_type": "execute_result"
    }
   ],
   "source": [
    "y_test = classifier.predict(feature_test)\n",
    "confusion_matrix(t_test, y_test)"
   ]
  },
  {
   "cell_type": "code",
   "execution_count": 17,
   "metadata": {
    "collapsed": false
   },
   "outputs": [
    {
     "name": "stdout",
     "output_type": "stream",
     "text": [
      "             precision    recall  f1-score   support\n",
      "\n",
      "        neg       0.81      0.84      0.82       286\n",
      "        pos       0.85      0.82      0.83       314\n",
      "\n",
      "avg / total       0.83      0.83      0.83       600\n",
      "\n"
     ]
    }
   ],
   "source": [
    "print classification_report(t_test, y_test)"
   ]
  },
  {
   "cell_type": "markdown",
   "metadata": {},
   "source": [
    "A common question for this kind of data is: which features are most predictive of a positive or negative review? \n",
    "\n",
    "The classifier object contains the log probability of a feature given a class, P(feature_i | class), and the log probability of a class P(class). This information can be combined to get P(class | feature_i):\n",
    "\n",
    "P(class | feature_i) = P(feature_i | class) P(class) / Z"
   ]
  },
  {
   "cell_type": "code",
   "execution_count": 18,
   "metadata": {
    "collapsed": false
   },
   "outputs": [],
   "source": [
    "p = np.exp(classifier.feature_log_prob_ + classifier.class_log_prior_[:, None])\n",
    "p = p / p.sum(0)"
   ]
  },
  {
   "cell_type": "markdown",
   "metadata": {},
   "source": [
    "We want to print the features for which the probability of class \"pos\" is much higher than class \"neg\", and vice versa."
   ]
  },
  {
   "cell_type": "code",
   "execution_count": 19,
   "metadata": {
    "collapsed": false
   },
   "outputs": [],
   "source": [
    "ratio = p[0, :] / p[1, :]\n",
    "rank_idx = np.argsort(ratio)"
   ]
  },
  {
   "cell_type": "code",
   "execution_count": 20,
   "metadata": {
    "collapsed": false
   },
   "outputs": [
    {
     "name": "stdout",
     "output_type": "stream",
     "text": [
      "Words indicating bad movies\n",
      "              seagal,  pos : neg,  1.0 : 25.0\n",
      "          schumacher,  pos : neg,  1.0 : 18.4\n",
      "           stupidity,  pos : neg,  1.0 : 15.4\n",
      "               sucks,  pos : neg,  1.0 : 13.2\n",
      "             idiotic,  pos : neg,  1.0 : 12.9\n",
      "Words indicating good movies\n",
      "             courage,  pos : neg,  19.1 : 1.0\n",
      "              avoids,  pos : neg,  14.5 : 1.0\n",
      "            religion,  pos : neg,  11.8 : 1.0\n",
      "               damon,  pos : neg,  9.8 : 1.0\n",
      "              finest,  pos : neg,  9.1 : 1.0\n"
     ]
    }
   ],
   "source": [
    "feature_names = np.array(vectorizer.get_feature_names())\n",
    "\n",
    "print 'Words indicating bad movies'\n",
    "row = '{:>20s},  pos : neg,  1.0 : {:.1f}'\n",
    "for idx in range(len(feature_names)-1, len(feature_names)-6, -1):\n",
    "    factor = ratio[rank_idx[idx]]\n",
    "    print row.format(feature_names[rank_idx[idx]], factor)\n",
    "\n",
    "print 'Words indicating good movies'\n",
    "row = '{:>20s},  pos : neg,  {:.1f} : 1.0'\n",
    "for idx in range(5):\n",
    "    factor = 1.0 / ratio[rank_idx[idx]]\n",
    "    print row.format(feature_names[rank_idx[idx]], factor)\n"
   ]
  },
  {
   "cell_type": "code",
   "execution_count": 23,
   "metadata": {
    "collapsed": false
   },
   "outputs": [],
   "source": [
    "wrong = y_test != t_test"
   ]
  },
  {
   "cell_type": "code",
   "execution_count": 24,
   "metadata": {
    "collapsed": false
   },
   "outputs": [],
   "source": [
    "prob_test = classifier.predict_proba(feature_test)\n"
   ]
  },
  {
   "cell_type": "code",
   "execution_count": 30,
   "metadata": {
    "collapsed": false
   },
   "outputs": [
    {
     "data": {
      "text/plain": [
       "(array([  1,   8,  26,  33,  52,  84,  89,  97, 120, 152, 175, 176, 180,\n",
       "        181, 195, 202, 210, 226, 227, 248, 259, 269, 297, 323, 337, 341,\n",
       "        344, 353, 373, 399, 417, 419, 420, 430, 459, 487, 490, 507, 510,\n",
       "        516, 517, 541, 550, 564, 566, 567]),)"
      ]
     },
     "execution_count": 30,
     "metadata": {},
     "output_type": "execute_result"
    }
   ],
   "source": [
    "np.where((y_test=='pos') & (np.array(t_test)=='neg'))"
   ]
  },
  {
   "cell_type": "code",
   "execution_count": 33,
   "metadata": {
    "collapsed": false
   },
   "outputs": [
    {
     "data": {
      "text/plain": [
       "u\"disillusioned and trying to find the spice of life , richard ( leonardo dicaprio ) sets off for thailand . \\nthere he a meets crazed man by the name of daffy ( robert carlyle ) who gives him a map to a beach , a secret utopia , then commits suicide . \\nrichard sets off for this beach with his neighbors from this hotel , ? tienne ( guillaume canet ) and fran ? oise ( virginie ledoyen ) . \\nonce they get there the three discover a secret society existing on this beach , there richard falls for fran ? oise . \\nthis covers about half to two thirds of the movie and aside from the romantic element , which is solely a creation of hollywood , seems to hold to the original novel . \\nthe cinematography and general beauty of this part of the movie is breathtaking . \\ni don't think anyone can argue that this movie is visually stunning . \\nbut that is were many things go wrong , darius khondji has totally outdone himself in doing the cinematography . \\nthough the script and the interpretation of the novel are quite lacking . \\nthe plot of the movie moves along at a decent pace for about half of the movie or there abouts . \\nthis is where the movie has some great potential , then the three travelers get the island and there is a turn for the better , yes folks i said better . \\nnow up to about two thirds of this movie its actually pretty good , nothing spectacular aside from the cinematography but it still has promise . \\nthis is where things start to degenerate to something that becomes almost un-watchable . \\nthere is even a 'video game' style sequence that borders on the disgusting , it doesn't make sense for the movie and just looks dumb in my opinion ( and i am hoping many other peoples ) . \\ni am hoping that in my little rant i've made it abundantly clear that the movie is lacking quite seriously in plot and uneven pacing , so if you go see it and you don't like it because of this don't blame me . \\nthe character development was not up to par either ; i found the character of richard to be nothing more than a spoiled child . \\nalthough there is a feeble attempt to make this whole story profound it fails and richard ( leo's character ) comes off as a wannabe philosopher . \\nthe character seems to be underdeveloped from the get go and seems to just do things for no apparent reason , granted some people are like this ( myself included ) but i nor anyone i know that is fairly random would ever do things of the sort this character does . \\nthe next point is that some of the really interesting characters are simply not developed enough . \\nrichard is obviously obsessed by fran ? oise at the early stages of the story , yet there is actually very little development along this story line . \\nthis i am sure contributes to the movie's lack of core plot and being unfocused . \\nnow , i shall move onto something a little better about the movie ( for all you cynics out there the movie did have a few good things about it ) . \\nthe cast and acting was passable at the very least , and i think that leonardo dicaprio actually did pretty well in the role of richard . \\nmind you i think the rest of the cast that had some which had reasonably sized roles did equally well if not better . \\nwhich begs the question why is leonardo paid so much ? \\n ( i think this is a topic all on its own so i won't get into it ) . \\nbut i like the fact that there was an international cast used , had only and american cast been used i can see this movie being horrible . \\nthe international flavor added a more global feel to the movie that made it that much more bearable . \\nnot to mention the movie is set in thailand and a global cast makes more sense . \\nwhen all is said and done i liked the movie for the most part but the gaping inadequacies of the plot are unforgivable . \\ni would not recommend this movie to anyone , the fact that i liked it has a lot to do with the cinematography and the sheer beauty of the movie not its plot or story . \\nas it is the story tries to be much too philosophical and fails at its attempt . \\nif you do end up going to see this movie be forewarned about its shortcomings . \\n\""
      ]
     },
     "execution_count": 33,
     "metadata": {},
     "output_type": "execute_result"
    }
   ],
   "source": [
    "movie_reviews.raw(fileids=movie_reviews.fileids()[550])"
   ]
  },
  {
   "cell_type": "code",
   "execution_count": null,
   "metadata": {
    "collapsed": false
   },
   "outputs": [],
   "source": []
  }
 ],
 "metadata": {},
 "nbformat": 4,
 "nbformat_minor": 0
}