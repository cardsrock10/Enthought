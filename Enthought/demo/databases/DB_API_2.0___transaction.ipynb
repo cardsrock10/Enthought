{
 "cells": [
  {
   "cell_type": "markdown",
   "metadata": {},
   "source": [
    "Transactions with DB-API 2.0\n",
    "============================\n",
    "\n",
    "This is a short notebook demonstrating how transactions are handled in DB-API 2.0 ."
   ]
  },
  {
   "cell_type": "code",
   "execution_count": 1,
   "metadata": {
    "collapsed": false
   },
   "outputs": [],
   "source": [
    "# Remove any existing database created in previous runs of this notebook.\n",
    "import os\n",
    "\n",
    "if os.path.isfile('example.db'):\n",
    "    os.unlink('example.db')"
   ]
  },
  {
   "cell_type": "code",
   "execution_count": 2,
   "metadata": {
    "collapsed": false
   },
   "outputs": [],
   "source": [
    "import sqlite3\n",
    "\n",
    "# \":memory:\" is sqlite-specific, and creates a database in memory\n",
    "connection = sqlite3.connect(\":memory:\")"
   ]
  },
  {
   "cell_type": "markdown",
   "metadata": {},
   "source": [
    "We will first have a look at manually creating, committing, and rolling back transactions."
   ]
  },
  {
   "cell_type": "code",
   "execution_count": 3,
   "metadata": {
    "collapsed": false
   },
   "outputs": [
    {
     "data": {
      "text/plain": [
       "<sqlite3.Cursor at 0x101ed1e30>"
      ]
     },
     "execution_count": 3,
     "metadata": {},
     "output_type": "execute_result"
    }
   ],
   "source": [
    "# Create a simple key -> value table.\n",
    "cursor = connection.cursor()\n",
    "cursor.execute(\"CREATE TABLE example (id INT PRIMARY KEY, value VARCHAR(255))\")"
   ]
  },
  {
   "cell_type": "code",
   "execution_count": 4,
   "metadata": {
    "collapsed": false
   },
   "outputs": [
    {
     "name": "stdout",
     "output_type": "stream",
     "text": [
      "1 row(s)\n"
     ]
    }
   ],
   "source": [
    "# Insert a single row, and explicitly commit the transaction to the DB.\n",
    "cursor.execute(\"INSERT INTO example VALUES (1, 'hello')\")\n",
    "connection.commit()\n",
    "result = cursor.execute(\"SELECT COUNT(*) FROM example\").fetchone()\n",
    "print \"{} row(s)\".format(result[0])"
   ]
  },
  {
   "cell_type": "code",
   "execution_count": 5,
   "metadata": {
    "collapsed": false
   },
   "outputs": [
    {
     "name": "stdout",
     "output_type": "stream",
     "text": [
      "3 row(s)\n",
      "1 row(s)\n"
     ]
    }
   ],
   "source": [
    "# A `rollback` operation undoes all operations in a transaction.\n",
    "cursor.execute(\"INSERT INTO example VALUES (2, 'bonjour')\")\n",
    "cursor.execute(\"INSERT INTO example VALUES (3, 'adieu')\")\n",
    "result = cursor.execute(\"SELECT COUNT(*) FROM example\").fetchone()\n",
    "print \"{} row(s)\".format(result[0])\n",
    "connection.rollback()\n",
    "\n",
    "# The two rows added in the previous transaction are not in the DB.\n",
    "result = cursor.execute(\"SELECT COUNT(*) FROM example\").fetchone()\n",
    "print \"{} row(s)\".format(result[0])"
   ]
  },
  {
   "cell_type": "code",
   "execution_count": 6,
   "metadata": {
    "collapsed": false
   },
   "outputs": [],
   "source": [
    "cursor.close()\n",
    "connection.close()"
   ]
  },
  {
   "cell_type": "markdown",
   "metadata": {},
   "source": [
    "Now we will do similar operations, using the context manager to group\n",
    "operations in transactions and automatically committing them if the\n",
    "block exits without problems."
   ]
  },
  {
   "cell_type": "code",
   "execution_count": 7,
   "metadata": {
    "collapsed": false
   },
   "outputs": [
    {
     "name": "stdout",
     "output_type": "stream",
     "text": [
      "2 row(s)\n"
     ]
    }
   ],
   "source": [
    "# The context manager wraps a code block in a single transaction.\n",
    "uri = \"example.db\"\n",
    "connection = sqlite3.connect(uri)\n",
    "with connection:\n",
    "    cursor = connection.cursor()\n",
    "    cursor.execute(\"CREATE TABLE example (id INT, value VARCHAR(255))\")\n",
    "    cursor.execute(\"INSERT INTO example VALUES (1, 'hello')\")\n",
    "    cursor.execute(\"INSERT INTO example VALUES (2, 'auf Wiedersehen')\")\n",
    "\n",
    "# The transaction completed cleanly, so it was committed at the exit of\n",
    "# the context manager.\n",
    "result = cursor.execute(\"SELECT COUNT(*) FROM example\").fetchone()\n",
    "print \"{} row(s)\".format(result[0])"
   ]
  },
  {
   "cell_type": "code",
   "execution_count": 8,
   "metadata": {
    "collapsed": false
   },
   "outputs": [
    {
     "ename": "ValueError",
     "evalue": "dummy exception",
     "output_type": "error",
     "traceback": [
      "\u001b[0;31m---------------------------------------------------------------------------\u001b[0m\n\u001b[0;31mValueError\u001b[0m                                Traceback (most recent call last)",
      "\u001b[0;32m<ipython-input-8-a6c1d11244f7>\u001b[0m in \u001b[0;36m<module>\u001b[0;34m()\u001b[0m\n\u001b[1;32m      4\u001b[0m     \u001b[0mcursor\u001b[0m \u001b[0;34m=\u001b[0m \u001b[0mconnection\u001b[0m\u001b[0;34m.\u001b[0m\u001b[0mcursor\u001b[0m\u001b[0;34m(\u001b[0m\u001b[0;34m)\u001b[0m\u001b[0;34m\u001b[0m\u001b[0m\n\u001b[1;32m      5\u001b[0m     \u001b[0mcursor\u001b[0m\u001b[0;34m.\u001b[0m\u001b[0mexecute\u001b[0m\u001b[0;34m(\u001b[0m\u001b[0;34m\"INSERT INTO example VALUES (3, 'bonjour')\"\u001b[0m\u001b[0;34m)\u001b[0m\u001b[0;34m\u001b[0m\u001b[0m\n\u001b[0;32m----> 6\u001b[0;31m     \u001b[0;32mraise\u001b[0m \u001b[0mValueError\u001b[0m\u001b[0;34m(\u001b[0m\u001b[0;34m\"dummy exception\"\u001b[0m\u001b[0;34m)\u001b[0m\u001b[0;34m\u001b[0m\u001b[0m\n\u001b[0m\u001b[1;32m      7\u001b[0m     \u001b[0mcursor\u001b[0m\u001b[0;34m.\u001b[0m\u001b[0mexecute\u001b[0m\u001b[0;34m(\u001b[0m\u001b[0;34m\"INSERT INTO example VALUES (4, 'adieu')\"\u001b[0m\u001b[0;34m)\u001b[0m\u001b[0;34m\u001b[0m\u001b[0m\n",
      "\u001b[0;31mValueError\u001b[0m: dummy exception"
     ]
    }
   ],
   "source": [
    "# If something bad happens during the transaction, the context manager\n",
    "# automatically rolls it back.\n",
    "with connection:\n",
    "    cursor = connection.cursor()\n",
    "    cursor.execute(\"INSERT INTO example VALUES (3, 'bonjour')\")\n",
    "    raise ValueError(\"dummy exception\")\n",
    "    cursor.execute(\"INSERT INTO example VALUES (4, 'adieu')\")"
   ]
  },
  {
   "cell_type": "code",
   "execution_count": 9,
   "metadata": {
    "collapsed": false
   },
   "outputs": [
    {
     "name": "stdout",
     "output_type": "stream",
     "text": [
      "[(1, u'hello'), (2, u'auf Wiedersehen')]\n"
     ]
    }
   ],
   "source": [
    "# How many rows are in the table right now?\n",
    "with connection:\n",
    "    cursor = connection.cursor()\n",
    "    print cursor.execute(\"SELECT * FROM example\").fetchall()\n",
    "\n",
    "# Note: some drivers support so-called autocommit \n",
    "# (every execute is effectively a transaction).\n",
    "# In that case, a different result would be expected here."
   ]
  },
  {
   "cell_type": "code",
   "execution_count": 10,
   "metadata": {
    "collapsed": false
   },
   "outputs": [
    {
     "name": "stdout",
     "output_type": "stream",
     "text": [
      "[(1, u'hello'), (2, u'auf Wiedersehen'), (3, u'bonjour'), (4, u'adieu')]\n"
     ]
    }
   ],
   "source": [
    "# Let's commit them \n",
    "with connection:\n",
    "    cursor = connection.cursor()\n",
    "    cursor.execute(\"INSERT INTO example VALUES (3, 'bonjour')\")\n",
    "    cursor.execute(\"INSERT INTO example VALUES (4, 'adieu')\")\n",
    "        \n",
    "with connection:\n",
    "    cursor = connection.cursor()\n",
    "    print cursor.execute(\"SELECT * FROM example\").fetchall()"
   ]
  },
  {
   "cell_type": "code",
   "execution_count": 11,
   "metadata": {
    "collapsed": false
   },
   "outputs": [],
   "source": [
    "connection.close()"
   ]
  },
  {
   "cell_type": "code",
   "execution_count": null,
   "metadata": {
    "collapsed": false
   },
   "outputs": [],
   "source": []
  }
 ],
 "metadata": {},
 "nbformat": 4,
 "nbformat_minor": 0
}