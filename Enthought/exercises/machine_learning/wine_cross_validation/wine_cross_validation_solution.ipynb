{
 "cells": [
  {
   "cell_type": "markdown",
   "metadata": {},
   "source": [
    "# WINE CROSS-VALIDATION EXERCISE - SOLUTION"
   ]
  },
  {
   "cell_type": "code",
   "execution_count": 1,
   "metadata": {
    "collapsed": false
   },
   "outputs": [],
   "source": [
    "# Activate inline plots.\n",
    "%matplotlib inline\n",
    "\n",
    "# Useful imports for the exercises.\n",
    "import numpy as np\n",
    "import pandas as pd\n",
    "import matplotlib.pyplot as plt\n",
    "import seaborn as sns\n",
    "\n",
    "sns.set_style('whitegrid')\n",
    "sns.set_context('notebook')"
   ]
  },
  {
   "cell_type": "markdown",
   "metadata": {},
   "source": [
    "## EXERCISE 1"
   ]
  },
  {
   "cell_type": "markdown",
   "metadata": {},
   "source": [
    "Revise the results of the \"wine regression\" exercise using cross-validation to set the hyper-parameters.\n",
    "\n",
    "Use your favorite method, or if you don't have one, try setting the \"alpha\" parameter \n",
    "for a Ridge regressor."
   ]
  },
  {
   "cell_type": "code",
   "execution_count": 2,
   "metadata": {
    "collapsed": false
   },
   "outputs": [],
   "source": [
    "# Read the data and print some summary information.\n",
    "df = pd.read_table('data/wine_quality-red.csv', sep=';')"
   ]
  },
  {
   "cell_type": "code",
   "execution_count": 3,
   "metadata": {
    "collapsed": false
   },
   "outputs": [],
   "source": [
    "# List of column names containing all the features for regression.\n",
    "features = df.columns.difference(['quality'])\n",
    "# The name of the column for the output varaible.\n",
    "target = 'quality'"
   ]
  },
  {
   "cell_type": "markdown",
   "metadata": {},
   "source": [
    "We start with some pre-processing:\n",
    "\n",
    "1. Divide the data in a training and a test set (to evaluate the algorith *after* cross-validation)\n",
    "2. Transform non-gaussian variables through a non-linearity"
   ]
  },
  {
   "cell_type": "code",
   "execution_count": 4,
   "metadata": {
    "collapsed": false
   },
   "outputs": [
    {
     "name": "stdout",
     "output_type": "stream",
     "text": [
      "Size of training set: 1279\n",
      "Size of test set: 320\n"
     ]
    }
   ],
   "source": [
    "from sklearn.cross_validation import train_test_split\n",
    "\n",
    "x = df[features]\n",
    "t = np.squeeze(df[target])\n",
    "\n",
    "# Divide the data into a training and a test set.\n",
    "random_state = 0  # Fixed so that everybody has got the same split\n",
    "test_set_fraction = 0.2\n",
    "x_train, x_test, t_train, t_test = train_test_split(x, t, test_size=test_set_fraction, \n",
    "                                                    random_state=random_state)\n",
    "\n",
    "print 'Size of training set:', len(x_train)\n",
    "print 'Size of test set:', len(x_test)"
   ]
  },
  {
   "cell_type": "code",
   "execution_count": 5,
   "metadata": {
    "collapsed": false
   },
   "outputs": [],
   "source": [
    "# Transform non-gaussian variables using a log transform.\n",
    "cols = ['alcohol', 'chlorides', 'citric acid', 'free sulfur dioxide', 'residual sugar', 'total sulfur dioxide']\n",
    "df[cols] = df[cols].apply(lambda x: np.log(x + 0.1))"
   ]
  },
  {
   "cell_type": "markdown",
   "metadata": {},
   "source": [
    "## Cross-validation"
   ]
  },
  {
   "cell_type": "markdown",
   "metadata": {},
   "source": [
    "In this section we will search for the optimal parameters for a Support Vector Regressor.\n",
    "\n",
    "First, we need to define the method with which we are going to generate the cross-validation sets."
   ]
  },
  {
   "cell_type": "code",
   "execution_count": 6,
   "metadata": {
    "collapsed": false
   },
   "outputs": [],
   "source": [
    "from sklearn import cross_validation\n",
    "cv = cross_validation.ShuffleSplit(len(t_train), n_iter=4, test_size=0.3)"
   ]
  },
  {
   "cell_type": "markdown",
   "metadata": {},
   "source": [
    "Second, we consider a grid of parameters for `gamma` (the width of the radial basis functions) and `C` (a regularization term, smaller means larger margin)."
   ]
  },
  {
   "cell_type": "code",
   "execution_count": 7,
   "metadata": {
    "collapsed": false
   },
   "outputs": [],
   "source": [
    "# These are the parameters that we're going to consider.\n",
    "gammas = np.logspace(-4, 0., 6) * 0.5\n",
    "Cs = [0.1, 1., 10., 100., 1000.]"
   ]
  },
  {
   "cell_type": "markdown",
   "metadata": {},
   "source": [
    "Third, we create the pipeline that we want to train."
   ]
  },
  {
   "cell_type": "code",
   "execution_count": 8,
   "metadata": {
    "collapsed": false
   },
   "outputs": [],
   "source": [
    "from sklearn.pipeline import Pipeline\n",
    "from sklearn.preprocessing import StandardScaler\n",
    "from sklearn.svm import SVR\n",
    "\n",
    "workflow = Pipeline([('scaler', StandardScaler()), ('regressor', SVR())])"
   ]
  },
  {
   "cell_type": "code",
   "execution_count": 9,
   "metadata": {
    "collapsed": false
   },
   "outputs": [],
   "source": [
    "from sklearn.grid_search import GridSearchCV\n",
    "\n",
    "param_grid = [{'regressor__kernel': ['rbf'], 'regressor__gamma': gammas, 'regressor__C': Cs}]\n",
    "\n",
    "grid_search = GridSearchCV(workflow, param_grid, cv=cv, n_jobs=8)\n",
    "grid_search.fit(x_train, t_train);"
   ]
  },
  {
   "cell_type": "code",
   "execution_count": 10,
   "metadata": {
    "collapsed": false
   },
   "outputs": [
    {
     "data": {
      "text/plain": [
       "<matplotlib.colorbar.Colorbar instance at 0x114a1c950>"
      ]
     },
     "execution_count": 10,
     "metadata": {},
     "output_type": "execute_result"
    },
    {
     "data": {
      "image/png": "[encoded data removed]",
      "text/plain": [
       "<matplotlib.figure.Figure at 0x1149b2990>"
      ]
     },
     "metadata": {},
     "output_type": "display_data"
    }
   ],
   "source": [
    "scores = [score.mean_validation_score for score in grid_search.grid_scores_]\n",
    "scores = np.array(scores).reshape(len(Cs), len(gammas)).T\n",
    "\n",
    "# Visualize the results as an image.\n",
    "plt.imshow(scores.clip(0), interpolation='nearest', cmap='Reds', origin='lower')\n",
    "plt.xticks(range(len(Cs)), Cs)\n",
    "plt.yticks(range(len(gammas)), gammas)\n",
    "plt.colorbar()"
   ]
  },
  {
   "cell_type": "code",
   "execution_count": 11,
   "metadata": {
    "collapsed": false
   },
   "outputs": [
    {
     "data": {
      "text/plain": [
       "{'regressor__C': 1.0,\n",
       " 'regressor__gamma': 0.079244659623055713,\n",
       " 'regressor__kernel': 'rbf'}"
      ]
     },
     "execution_count": 11,
     "metadata": {},
     "output_type": "execute_result"
    }
   ],
   "source": [
    "grid_search.best_params_"
   ]
  },
  {
   "cell_type": "markdown",
   "metadata": {},
   "source": [
    "## Compute prediction performance"
   ]
  },
  {
   "cell_type": "markdown",
   "metadata": {},
   "source": [
    "Finally, we use the `grid_search` object as an estimator, to compute the final score using the test data set."
   ]
  },
  {
   "cell_type": "code",
   "execution_count": 12,
   "metadata": {
    "collapsed": false
   },
   "outputs": [
    {
     "name": "stdout",
     "output_type": "stream",
     "text": [
      "Training R^2 = 0.5403\n",
      "    Test R^2 = 0.3460\n"
     ]
    }
   ],
   "source": [
    "# Compute the final score.\n",
    "print 'Training R^2 = {:.4f}'.format(grid_search.score(x_train, t_train))\n",
    "print '    Test R^2 = {:.4f}'.format(grid_search.score(x_test, t_test))"
   ]
  },
  {
   "cell_type": "code",
   "execution_count": 12,
   "metadata": {
    "collapsed": false
   },
   "outputs": [],
   "source": []
  }
 ],
 "metadata": {
  "kernelspec": {
   "display_name": "Python 2",
   "language": "python",
   "name": "python2"
  },
  "language_info": {
   "codemirror_mode": {
    "name": "ipython",
    "version": 2
   },
   "file_extension": ".py",
   "mimetype": "text/x-python",
   "name": "python",
   "nbconvert_exporter": "python",
   "pygments_lexer": "ipython2",
   "version": "2.7.11"
  }
 },
 "nbformat": 4,
 "nbformat_minor": 0
}
