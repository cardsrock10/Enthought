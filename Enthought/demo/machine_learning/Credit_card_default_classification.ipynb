{
 "cells": [
  {
   "cell_type": "markdown",
   "metadata": {},
   "source": [
    "# Credit card default prediction demo"
   ]
  },
  {
   "cell_type": "markdown",
   "metadata": {},
   "source": [
    "This demo illustrates the problems in evaluating the performance of a classifier, by looking at the problem of predicting credit card default based on information about the credit card applicant."
   ]
  },
  {
   "cell_type": "code",
   "execution_count": 1,
   "metadata": {
    "collapsed": false
   },
   "outputs": [],
   "source": [
    "# Useful imports\n",
    "import numpy as np\n",
    "import pandas as pd\n",
    "import matplotlib.pyplot as plt\n",
    "import seaborn as sns\n",
    "\n",
    "# Settings for plots\n",
    "%matplotlib inline\n",
    "\n",
    "plt.rcParams['figure.figsize'] = (10.0, 6.0)\n",
    "sns.set_style('whitegrid')"
   ]
  },
  {
   "cell_type": "code",
   "execution_count": 2,
   "metadata": {
    "collapsed": false
   },
   "outputs": [
    {
     "name": "stdout",
     "output_type": "stream",
     "text": [
      "Index([u'CARDHLDR', u'DEFAULT', u'AGE', u'ACADMOS', u'ADEPCNT', u'MAJORDRG',\n",
      "       u'MINORDRG', u'OWNRENT', u'INCOME', u'SELFEMPL', u'INCPER', u'EXP_INC',\n",
      "       u'SPENDING', u'LOGSPEND '],\n",
      "      dtype='object')\n"
     ]
    }
   ],
   "source": [
    "df = pd.read_csv('data/credit_card_default.csv', na_values=[' ', '  '])\n",
    "print df.columns"
   ]
  },
  {
   "cell_type": "markdown",
   "metadata": {},
   "source": [
    "Columns are:\n",
    "```\n",
    "Cardhldr = Dummy variable, 1 if application for credit card accepted, 0 if not\n",
    "Default = 1 if defaulted 0 if not (observed when Cardhldr = 1, 10,499 observations),\n",
    "Age = Age in years plus twelfths of a year,\n",
    "Adepcnt = 1 + number of dependents,\n",
    "Acadmos = months living at current address,\n",
    "Majordrg = Number of major derogatory reports,\n",
    "Minordrg = Number of minor derogatory reports,\n",
    "Ownrent = 1 if owns their home, 0 if rent\n",
    "Income = Monthly income (divided by 10,000),\n",
    "Selfempl = 1 if self employed, 0 if not,\n",
    "Inc_per = Income divided by number of dependents,\n",
    "Exp_Inc = Ratio of monthly credit card expenditure to yearly income,\n",
    "Spending = Average monthly credit card expenditure (for Cardhldr = 1),\n",
    "Logspend = Log of spending.\n",
    "```"
   ]
  },
  {
   "cell_type": "markdown",
   "metadata": {},
   "source": [
    "We are going to look at the data for people who successfully applied for a credit card, since only in those cases we know if they defaulted or not."
   ]
  },
  {
   "cell_type": "code",
   "execution_count": 3,
   "metadata": {
    "collapsed": false
   },
   "outputs": [],
   "source": [
    "# Extract the rows for card holders alone.\n",
    "df = df[df.CARDHLDR == 1]"
   ]
  },
  {
   "cell_type": "code",
   "execution_count": 4,
   "metadata": {
    "collapsed": false
   },
   "outputs": [],
   "source": [
    "# We want to classify the data in a \"default\" (0) and a \"no-default\" (1) class.\n",
    "target_col = 'DEFAULT'\n",
    "# We selected a subset of columns as input features.\n",
    "features_cols = [u'AGE', u'MAJORDRG', u'OWNRENT', u'INCOME', u'SELFEMPL', u'SPENDING']\n",
    "\n",
    "target = 1 - df[target_col]\n",
    "features = df[features_cols]"
   ]
  },
  {
   "cell_type": "code",
   "execution_count": 5,
   "metadata": {
    "collapsed": false
   },
   "outputs": [
    {
     "name": "stdout",
     "output_type": "stream",
     "text": [
      "# train = 7349, # test data points = 3150\n"
     ]
    }
   ],
   "source": [
    "# Divide the data into a training and a test set.\n",
    "from sklearn.cross_validation import train_test_split\n",
    "\n",
    "random_state = 0  # Fixed to make the notebook reproducible.\n",
    "test_set_fraction = 0.3\n",
    "x_train, x_test, t_train, t_test = train_test_split(\n",
    "    features, target, test_size=test_set_fraction, random_state=random_state)\n",
    "print '# train = {}, # test data points = {}'.format(len(x_train), len(x_test))"
   ]
  },
  {
   "cell_type": "code",
   "execution_count": 6,
   "metadata": {
    "collapsed": false
   },
   "outputs": [],
   "source": [
    "# Rescale the features to have zero mean and unit variance.\n",
    "from sklearn import preprocessing\n",
    "\n",
    "scaler = preprocessing.StandardScaler()\n",
    "scaler.fit(features)\n",
    "x_test = scaler.transform(x_test)\n",
    "x_train = scaler.transform(x_train)"
   ]
  },
  {
   "cell_type": "markdown",
   "metadata": {},
   "source": [
    "We are going to make a first attempt at classification using a Support Vector classifier with radial basis functions."
   ]
  },
  {
   "cell_type": "code",
   "execution_count": 7,
   "metadata": {
    "collapsed": false
   },
   "outputs": [
    {
     "data": {
      "text/plain": [
       "SVC(C=100.0, cache_size=200, class_weight=None, coef0=0.0, degree=3,\n",
       "  gamma=0.0, kernel='rbf', max_iter=-1, probability=False,\n",
       "  random_state=None, shrinking=True, tol=0.001, verbose=False)"
      ]
     },
     "execution_count": 7,
     "metadata": {},
     "output_type": "execute_result"
    }
   ],
   "source": [
    "from sklearn import svm\n",
    "\n",
    "# Train the classifier.\n",
    "method = svm.SVC(kernel='rbf', C=100.)\n",
    "method.fit(x_train, t_train)"
   ]
  },
  {
   "cell_type": "code",
   "execution_count": 8,
   "metadata": {
    "collapsed": false
   },
   "outputs": [
    {
     "name": "stdout",
     "output_type": "stream",
     "text": [
      "Accuracy = 0.900317460317\n"
     ]
    }
   ],
   "source": [
    "# Evaluate on test data.\n",
    "print 'Accuracy =', method.score(x_test, t_test)"
   ]
  },
  {
   "cell_type": "markdown",
   "metadata": {},
   "source": [
    "This is a quite high accuracy score on test data... should we declare success?\n",
    "\n",
    "Let's have a look at the confusion matrix, showing class prediction versus ground truth."
   ]
  },
  {
   "cell_type": "code",
   "execution_count": 9,
   "metadata": {
    "collapsed": false
   },
   "outputs": [
    {
     "name": "stdout",
     "output_type": "stream",
     "text": [
      "[[   2  304]\n",
      " [  10 2834]]\n"
     ]
    }
   ],
   "source": [
    "from sklearn.metrics import confusion_matrix\n",
    "\n",
    "y_test = method.predict(x_test)\n",
    "print confusion_matrix(t_test, y_test)"
   ]
  },
  {
   "cell_type": "markdown",
   "metadata": {},
   "source": [
    "The high accuracy is due uniquely to the fact that non-default rows are much more common! We are failing completely to capture the default cases, which is what we are mainly interested in."
   ]
  },
  {
   "cell_type": "code",
   "execution_count": 10,
   "metadata": {
    "collapsed": false
   },
   "outputs": [
    {
     "data": {
      "text/plain": [
       "<seaborn.axisgrid.FacetGrid at 0x10278cdd0>"
      ]
     },
     "execution_count": 10,
     "metadata": {},
     "output_type": "execute_result"
    },
    {
     "data": {
      "image/png": "[encoded data removed]",
      "text/plain": [
       "<matplotlib.figure.Figure at 0x1111ff0d0>"
      ]
     },
     "metadata": {},
     "output_type": "display_data"
    }
   ],
   "source": [
    "# Distribution of labels in the full data set.\n",
    "sns.factorplot('DEFAULT', data=df, kind='count', color='steelblue')"
   ]
  },
  {
   "cell_type": "markdown",
   "metadata": {},
   "source": [
    "The \"recall\" score measures the percentage of correctly classified cases for each class, and can be used to diagnose this kind of cases."
   ]
  },
  {
   "cell_type": "code",
   "execution_count": 11,
   "metadata": {
    "collapsed": false
   },
   "outputs": [
    {
     "name": "stdout",
     "output_type": "stream",
     "text": [
      "Recall =  [ 0.00653595  0.99648383]\n"
     ]
    }
   ],
   "source": [
    "from sklearn.metrics import recall_score\n",
    "\n",
    "print 'Recall = ', recall_score(t_test, y_test, average=None)"
   ]
  },
  {
   "cell_type": "markdown",
   "metadata": {},
   "source": [
    "We can also request a summary table with `classification_report`."
   ]
  },
  {
   "cell_type": "code",
   "execution_count": 12,
   "metadata": {
    "collapsed": false
   },
   "outputs": [
    {
     "name": "stdout",
     "output_type": "stream",
     "text": [
      "             precision    recall  f1-score   support\n",
      "\n",
      "          0       0.17      0.01      0.01       306\n",
      "          1       0.90      1.00      0.95      2844\n",
      "\n",
      "avg / total       0.83      0.90      0.86      3150\n",
      "\n"
     ]
    }
   ],
   "source": [
    "from sklearn.metrics import classification_report\n",
    "\n",
    "print classification_report(t_test, y_test)"
   ]
  },
  {
   "cell_type": "markdown",
   "metadata": {},
   "source": [
    "What can we do about it? First of all, we should re-balance the data set by over/undersampling the classes, or weight the data points by their number in the error function, if the classifier allows it."
   ]
  },
  {
   "cell_type": "code",
   "execution_count": 13,
   "metadata": {
    "collapsed": false
   },
   "outputs": [
    {
     "name": "stdout",
     "output_type": "stream",
     "text": [
      "Accuracy = 0.59619047619\n",
      "Classification report:\n",
      "             precision    recall  f1-score   support\n",
      "\n",
      "          0       0.13      0.56      0.21       306\n",
      "          1       0.93      0.60      0.73      2844\n",
      "\n",
      "avg / total       0.85      0.60      0.68      3150\n",
      "\n",
      "Confusion matrix:\n",
      "[[ 172  134]\n",
      " [1138 1706]]\n"
     ]
    }
   ],
   "source": [
    "# `class_weight='auto'` weights points for each class based on their relative number.\n",
    "# We could also pass a dictionary mapping class label to weight explicitly.\n",
    "method = svm.SVC(kernel='rbf', C=100., class_weight='auto')\n",
    "method.fit(x_train, t_train)\n",
    "print 'Accuracy =', method.score(x_test, t_test)\n",
    "\n",
    "y_test = method.predict(x_test)\n",
    "\n",
    "print 'Classification report:'\n",
    "print classification_report(t_test, y_test)\n",
    "\n",
    "print 'Confusion matrix:'\n",
    "y_test = method.predict(x_test)\n",
    "print confusion_matrix(t_test, y_test)"
   ]
  },
  {
   "cell_type": "markdown",
   "metadata": {},
   "source": [
    "Another thing to keep in mind is that the classification threshold is somewhat arbitrary, and can be displaced if we are willing to trade false positive errors for false negative errors."
   ]
  },
  {
   "cell_type": "code",
   "execution_count": 14,
   "metadata": {
    "collapsed": false
   },
   "outputs": [
    {
     "data": {
      "image/png": "[encoded data removed]",
      "text/plain": [
       "<matplotlib.figure.Figure at 0x111f18590>"
      ]
     },
     "metadata": {},
     "output_type": "display_data"
    }
   ],
   "source": [
    "# Show the class labels as a function of the classification function.\n",
    "score = method.decision_function(x_test)\n",
    "plt.plot(score, y_test, 'o')\n",
    "plt.ylim(-0.5, 1.5);"
   ]
  },
  {
   "cell_type": "markdown",
   "metadata": {},
   "source": [
    "We can get a complete overview of how false positive and false negative errors vary as a function of the threshold using the Receiving Operator Curve (ROC)"
   ]
  },
  {
   "cell_type": "code",
   "execution_count": 15,
   "metadata": {
    "collapsed": false
   },
   "outputs": [
    {
     "data": {
      "text/plain": [
       "<matplotlib.text.Text at 0x111f64390>"
      ]
     },
     "execution_count": 15,
     "metadata": {},
     "output_type": "execute_result"
    },
    {
     "data": {
      "image/png": "[encoded data removed]",
      "text/plain": [
       "<matplotlib.figure.Figure at 0x117e3c490>"
      ]
     },
     "metadata": {},
     "output_type": "display_data"
    }
   ],
   "source": [
    "from sklearn.metrics import roc_curve\n",
    "\n",
    "y_score = method.decision_function(x_test)\n",
    "fpr, tpr, uh = roc_curve(t_test, y_score)\n",
    "\n",
    "plt.rcParams['figure.figsize'] = (6.0, 6.0)\n",
    "plt.plot(fpr, tpr)\n",
    "plt.plot([0, 1], [0, 1], 'r--')\n",
    "plt.xlabel('False negatives')\n",
    "plt.ylabel('False positives')"
   ]
  },
  {
   "cell_type": "markdown",
   "metadata": {},
   "source": [
    "Where you want to be on that curve depends on your costs for either type of error, which would lead us into decision theory.\n",
    "\n",
    "On the other hand, one can use the Area Under the Curve (AUC) as a measure for the classifier performance."
   ]
  },
  {
   "cell_type": "code",
   "execution_count": 16,
   "metadata": {
    "collapsed": false
   },
   "outputs": [
    {
     "name": "stdout",
     "output_type": "stream",
     "text": [
      "AUC =  0.616183135233\n"
     ]
    }
   ],
   "source": [
    "from sklearn.metrics import auc\n",
    "print 'AUC = ', auc(fpr, tpr)"
   ]
  },
  {
   "cell_type": "code",
   "execution_count": 16,
   "metadata": {
    "collapsed": false
   },
   "outputs": [],
   "source": []
  }
 ],
 "metadata": {},
 "nbformat": 4,
 "nbformat_minor": 0
}