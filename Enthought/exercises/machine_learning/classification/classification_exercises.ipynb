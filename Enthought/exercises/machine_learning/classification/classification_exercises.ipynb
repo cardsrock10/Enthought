{
 "cells": [
  {
   "cell_type": "markdown",
   "metadata": {},
   "source": [
    "# CLASSIFICATION EXERCISES"
   ]
  },
  {
   "cell_type": "code",
   "execution_count": 1,
   "metadata": {
    "collapsed": false
   },
   "outputs": [
    {
     "name": "stdout",
     "output_type": "stream",
     "text": [
      "Populating the interactive namespace from numpy and matplotlib\n"
     ]
    }
   ],
   "source": [
    "# Useful imports\n",
    "import numpy as np\n",
    "import pandas as pd\n",
    "from matplotlib import pylab\n",
    "\n",
    "# Settings for plots\n",
    "%pylab inline\n",
    "\n",
    "pylab.rcParams['figure.figsize'] = (10.0, 6.0)\n",
    "font = {'size'   : 18}\n",
    "pyplot.rc('font', **font)\n",
    "\n",
    "pyplot.rc('xtick', labelsize=14) \n",
    "pyplot.rc('ytick', labelsize=14) "
   ]
  },
  {
   "cell_type": "markdown",
   "metadata": {},
   "source": [
    "## EXERCISE 1"
   ]
  },
  {
   "cell_type": "markdown",
   "metadata": {},
   "source": [
    "The goal of the exercise is to experiment with various classification methods.\n",
    "\n",
    "The UCI hand-written digits datasets contains hand-written, labelled samples of the 0-9 digits.\n",
    "\n",
    "Experiment with classification methods and try to minimize test error on this dataset:\n",
    "1. Reduce the data set dimensionality\n",
    "2. Train one of the classification methods from sklearn on the training set\n",
    "3. Compute the classification accuracy on the test set\n",
    "4. Visualize the confusion matrix"
   ]
  },
  {
   "cell_type": "code",
   "execution_count": 2,
   "metadata": {
    "collapsed": false
   },
   "outputs": [],
   "source": [
    "from sklearn import datasets\n",
    "\n",
    "dataset = datasets.load_digits()\n",
    "digits = dataset.data\n",
    "labels = dataset.target"
   ]
  },
  {
   "cell_type": "code",
   "execution_count": 3,
   "metadata": {
    "collapsed": false
   },
   "outputs": [],
   "source": [
    "# Divide the data into a training and a test set.\n",
    "from sklearn.cross_validation import train_test_split\n",
    "\n",
    "random_state = 0  # Fixed so that everybody has got the same split\n",
    "test_set_fraction = 0.3\n",
    "x_train, x_test, t_train, t_test = train_test_split(digits, labels, \n",
    "                                                    test_size=test_set_fraction, \n",
    "                                                    random_state=random_state)"
   ]
  },
  {
   "cell_type": "code",
   "execution_count": 4,
   "metadata": {
    "collapsed": false
   },
   "outputs": [],
   "source": [
    "def show_digit(digit):\n",
    "    \"\"\" Utility function to display an handwritten digit. \"\"\"\n",
    "    digit = digit.reshape(8, 8)\n",
    "    imshow(digit, cmap=cm.gray, interpolation='nearest')\n",
    "    axis('off')\n"
   ]
  },
  {
   "cell_type": "code",
   "execution_count": 5,
   "metadata": {
    "collapsed": false
   },
   "outputs": [
    {
     "data": {
      "image/png": "[encoded data removed]",
      "text/plain": [
       "<matplotlib.figure.Figure at 0x112c20ed0>"
      ]
     },
     "metadata": {},
     "output_type": "display_data"
    }
   ],
   "source": [
    "# Display a few samples from the database.\n",
    "for idx, digit in enumerate(digits[:12,:]):\n",
    "    subplot(3, 4, idx+1)\n",
    "    show_digit(digit)\n",
    "    title(labels[idx])"
   ]
  },
  {
   "cell_type": "code",
   "execution_count": null,
   "metadata": {
    "collapsed": false
   },
   "outputs": [],
   "source": []
  }
 ],
 "metadata": {},
 "nbformat": 4,
 "nbformat_minor": 0
}