{
 "cells": [
  {
   "cell_type": "markdown",
   "metadata": {},
   "source": [
    "# WINE REGRESSION"
   ]
  },
  {
   "cell_type": "code",
   "execution_count": 5,
   "metadata": {
    "collapsed": false
   },
   "outputs": [],
   "source": [
    "# Activate inline plots.\n",
    "%matplotlib inline\n",
    "\n",
    "# Useful imports for the exercises.\n",
    "import numpy as np\n",
    "import pandas as pd\n",
    "import matplotlib.pyplot as plt\n",
    "import seaborn as sns\n",
    "\n",
    "sns.set_style('white')"
   ]
  },
  {
   "cell_type": "markdown",
   "metadata": {},
   "source": [
    "## EXERCISE 1"
   ]
  },
  {
   "cell_type": "markdown",
   "metadata": {},
   "source": [
    "The goal of this exercise is to experiment with various regression methods.\n",
    "\n",
    "We would like to build an automatic system for rating red wines.\n",
    "The file `data/winequality-red.csv` contains a table of 1599 red wines [1], rated by `quality` based on 11 chemical indicators.  \n",
    "\n",
    "Input variables (based on physicochemical tests):\n",
    "```\n",
    "   1 - fixed acidity\n",
    "   2 - volatile acidity\n",
    "   3 - citric acid\n",
    "   4 - residual sugar\n",
    "   5 - chlorides\n",
    "   6 - free sulfur dioxide\n",
    "   7 - total sulfur dioxide\n",
    "   8 - density\n",
    "   9 - pH\n",
    "   10 - sulphates\n",
    "   11 - alcohol\n",
    "```\n",
    "Output variable (based on sensory data): \n",
    "```\n",
    "   12 - quality (score between 0 and 10)\n",
    "```\n",
    "\n",
    "Divide the data in a test and a training set, and use a regression method of your chioce to predict the wine quality from its chemical properties.\n",
    "\n",
    "[1] P. Cortez, A. Cerdeira, F. Almeida, T. Matos and J. Reis. \n",
    "    *Modeling wine preferences by data mining from physicochemical properties.*\n",
    "    In Decision Support Systems, Elsevier, 47(4):547-553. ISSN: 0167-9236.\n"
   ]
  },
  {
   "cell_type": "code",
   "execution_count": 6,
   "metadata": {
    "collapsed": false
   },
   "outputs": [
    {
     "name": "stdout",
     "output_type": "stream",
     "text": [
      "<class 'pandas.core.frame.DataFrame'>\n",
      "Int64Index: 1599 entries, 0 to 1598\n",
      "Data columns (total 12 columns):\n",
      "fixed acidity           1599 non-null float64\n",
      "volatile acidity        1599 non-null float64\n",
      "citric acid             1599 non-null float64\n",
      "residual sugar          1599 non-null float64\n",
      "chlorides               1599 non-null float64\n",
      "free sulfur dioxide     1599 non-null float64\n",
      "total sulfur dioxide    1599 non-null float64\n",
      "density                 1599 non-null float64\n",
      "pH                      1599 non-null float64\n",
      "sulphates               1599 non-null float64\n",
      "alcohol                 1599 non-null float64\n",
      "quality                 1599 non-null int64\n",
      "dtypes: float64(11), int64(1)\n",
      "memory usage: 162.4 KB\n"
     ]
    }
   ],
   "source": [
    "# Read the data and print some summary information.\n",
    "df = pd.read_table('data/wine_quality-red.csv', sep=';')\n",
    "df.info()"
   ]
  },
  {
   "cell_type": "code",
   "execution_count": 7,
   "metadata": {
    "collapsed": false
   },
   "outputs": [
    {
     "data": {
      "text/html": [
       "<div style=\"max-height:1000px;max-width:1500px;overflow:auto;\">\n",
       "<table border=\"1\" class=\"dataframe\">\n",
       "  <thead>\n",
       "    <tr style=\"text-align: right;\">\n",
       "      <th></th>\n",
       "      <th>fixed acidity</th>\n",
       "      <th>volatile acidity</th>\n",
       "      <th>citric acid</th>\n",
       "      <th>residual sugar</th>\n",
       "      <th>chlorides</th>\n",
       "      <th>free sulfur dioxide</th>\n",
       "      <th>total sulfur dioxide</th>\n",
       "      <th>density</th>\n",
       "      <th>pH</th>\n",
       "      <th>sulphates</th>\n",
       "      <th>alcohol</th>\n",
       "      <th>quality</th>\n",
       "    </tr>\n",
       "  </thead>\n",
       "  <tbody>\n",
       "    <tr>\n",
       "      <th>0</th>\n",
       "      <td>  7.4</td>\n",
       "      <td> 0.70</td>\n",
       "      <td> 0.00</td>\n",
       "      <td> 1.9</td>\n",
       "      <td> 0.076</td>\n",
       "      <td> 11</td>\n",
       "      <td> 34</td>\n",
       "      <td> 0.9978</td>\n",
       "      <td> 3.51</td>\n",
       "      <td> 0.56</td>\n",
       "      <td> 9.4</td>\n",
       "      <td> 5</td>\n",
       "    </tr>\n",
       "    <tr>\n",
       "      <th>1</th>\n",
       "      <td>  7.8</td>\n",
       "      <td> 0.88</td>\n",
       "      <td> 0.00</td>\n",
       "      <td> 2.6</td>\n",
       "      <td> 0.098</td>\n",
       "      <td> 25</td>\n",
       "      <td> 67</td>\n",
       "      <td> 0.9968</td>\n",
       "      <td> 3.20</td>\n",
       "      <td> 0.68</td>\n",
       "      <td> 9.8</td>\n",
       "      <td> 5</td>\n",
       "    </tr>\n",
       "    <tr>\n",
       "      <th>2</th>\n",
       "      <td>  7.8</td>\n",
       "      <td> 0.76</td>\n",
       "      <td> 0.04</td>\n",
       "      <td> 2.3</td>\n",
       "      <td> 0.092</td>\n",
       "      <td> 15</td>\n",
       "      <td> 54</td>\n",
       "      <td> 0.9970</td>\n",
       "      <td> 3.26</td>\n",
       "      <td> 0.65</td>\n",
       "      <td> 9.8</td>\n",
       "      <td> 5</td>\n",
       "    </tr>\n",
       "    <tr>\n",
       "      <th>3</th>\n",
       "      <td> 11.2</td>\n",
       "      <td> 0.28</td>\n",
       "      <td> 0.56</td>\n",
       "      <td> 1.9</td>\n",
       "      <td> 0.075</td>\n",
       "      <td> 17</td>\n",
       "      <td> 60</td>\n",
       "      <td> 0.9980</td>\n",
       "      <td> 3.16</td>\n",
       "      <td> 0.58</td>\n",
       "      <td> 9.8</td>\n",
       "      <td> 6</td>\n",
       "    </tr>\n",
       "    <tr>\n",
       "      <th>4</th>\n",
       "      <td>  7.4</td>\n",
       "      <td> 0.70</td>\n",
       "      <td> 0.00</td>\n",
       "      <td> 1.9</td>\n",
       "      <td> 0.076</td>\n",
       "      <td> 11</td>\n",
       "      <td> 34</td>\n",
       "      <td> 0.9978</td>\n",
       "      <td> 3.51</td>\n",
       "      <td> 0.56</td>\n",
       "      <td> 9.4</td>\n",
       "      <td> 5</td>\n",
       "    </tr>\n",
       "  </tbody>\n",
       "</table>\n",
       "</div>"
      ],
      "text/plain": [
       "   fixed acidity  volatile acidity  citric acid  residual sugar  chlorides  \\\n",
       "0            7.4              0.70         0.00             1.9      0.076   \n",
       "1            7.8              0.88         0.00             2.6      0.098   \n",
       "2            7.8              0.76         0.04             2.3      0.092   \n",
       "3           11.2              0.28         0.56             1.9      0.075   \n",
       "4            7.4              0.70         0.00             1.9      0.076   \n",
       "\n",
       "   free sulfur dioxide  total sulfur dioxide  density    pH  sulphates  \\\n",
       "0                   11                    34   0.9978  3.51       0.56   \n",
       "1                   25                    67   0.9968  3.20       0.68   \n",
       "2                   15                    54   0.9970  3.26       0.65   \n",
       "3                   17                    60   0.9980  3.16       0.58   \n",
       "4                   11                    34   0.9978  3.51       0.56   \n",
       "\n",
       "   alcohol  quality  \n",
       "0      9.4        5  \n",
       "1      9.8        5  \n",
       "2      9.8        5  \n",
       "3      9.8        6  \n",
       "4      9.4        5  "
      ]
     },
     "execution_count": 7,
     "metadata": {},
     "output_type": "execute_result"
    }
   ],
   "source": [
    "df.head()"
   ]
  },
  {
   "cell_type": "code",
   "execution_count": 8,
   "metadata": {
    "collapsed": false
   },
   "outputs": [
    {
     "name": "stdout",
     "output_type": "stream",
     "text": [
      "Features: ['alcohol' 'chlorides' 'citric acid' 'density' 'fixed acidity'\n",
      " 'free sulfur dioxide' 'pH' 'residual sugar' 'sulphates'\n",
      " 'total sulfur dioxide' 'volatile acidity']\n"
     ]
    }
   ],
   "source": [
    "# List of column names containing all the features for regression.\n",
    "features = df.columns.difference(['quality'])\n",
    "# The name of the column for the output varaible.\n",
    "target = 'quality'\n",
    "print 'Features:', features.values"
   ]
  },
  {
   "cell_type": "code",
   "execution_count": 9,
   "metadata": {
    "collapsed": false
   },
   "outputs": [
    {
     "name": "stdout",
     "output_type": "stream",
     "text": [
      "Size of training set: 1279\n",
      "Size of test set: 320\n"
     ]
    }
   ],
   "source": [
    "from sklearn.cross_validation import train_test_split\n",
    "\n",
    "x = df[features]\n",
    "t = np.squeeze(df[target])\n",
    "\n",
    "# Divide the data into a training and a test set.\n",
    "random_state = 0  # Fixed so that everybody has got the same split\n",
    "test_set_fraction = 0.2\n",
    "x_train, x_test, t_train, t_test = train_test_split(x, t, test_size=test_set_fraction, \n",
    "                                                    random_state=random_state)\n",
    "\n",
    "print 'Size of training set:', len(x_train)\n",
    "print 'Size of test set:', len(x_test)\n"
   ]
  },
  {
   "cell_type": "code",
   "execution_count": null,
   "metadata": {
    "collapsed": false
   },
   "outputs": [],
   "source": []
  }
 ],
 "metadata": {
  "kernelspec": {
   "display_name": "Python 2",
   "language": "python",
   "name": "python2"
  },
  "language_info": {
   "codemirror_mode": {
    "name": "ipython",
    "version": 2
   },
   "file_extension": ".py",
   "mimetype": "text/x-python",
   "name": "python",
   "nbconvert_exporter": "python",
   "pygments_lexer": "ipython2",
   "version": "2.7.11"
  }
 },
 "nbformat": 4,
 "nbformat_minor": 0
}
