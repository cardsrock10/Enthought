{
 "cells": [
  {
   "cell_type": "code",
   "execution_count": 1,
   "metadata": {
    "collapsed": false
   },
   "outputs": [],
   "source": [
    "# This could be any DB-API 2.0 compliant database\n",
    "#  Although some change in the connect arguments may be necessary\n",
    "#  For example --- adding user= and password= keywords\n",
    "import sqlite3 as db"
   ]
  },
  {
   "cell_type": "code",
   "execution_count": 2,
   "metadata": {
    "collapsed": false
   },
   "outputs": [],
   "source": [
    "# Connect to the database.\n",
    "\n",
    "# Create an in-memory database (specific for sqlite3)\n",
    "database = ':memory:'\n",
    "\n",
    "# Read it from file / create a new database in a file\n",
    "#database = '/tmp/mydata'\n",
    "\n",
    "conn = db.connect(database)\n",
    "c = conn.cursor()"
   ]
  },
  {
   "cell_type": "code",
   "execution_count": 3,
   "metadata": {
    "collapsed": false
   },
   "outputs": [
    {
     "data": {
      "text/plain": [
       "<sqlite3.Cursor at 0x1027100a0>"
      ]
     },
     "execution_count": 3,
     "metadata": {},
     "output_type": "execute_result"
    }
   ],
   "source": [
    "# Create a table in the database.\n",
    "\n",
    "sql = \"\"\"create table stocks \n",
    "         (date text, trans text, symbol text, qty real, price real)\"\"\"\n",
    "c.execute(sql)"
   ]
  },
  {
   "cell_type": "code",
   "execution_count": 4,
   "metadata": {
    "collapsed": false
   },
   "outputs": [],
   "source": [
    "sql = \"\"\"insert into stocks values\n",
    "         ('2006-01-05', 'BUY', 'RHAT', 100, 35.14)\"\"\"\n",
    "c.execute(sql)\n",
    "\n",
    "conn.commit()"
   ]
  },
  {
   "cell_type": "code",
   "execution_count": 5,
   "metadata": {
    "collapsed": false
   },
   "outputs": [],
   "source": [
    "stocks = [('2006-03-28', 'BUY', 'IBM', 1000, 45.00),\n",
    "          ('2006-04-05', 'BUY', 'MSOFT', 1000, 72.00),\n",
    "          ('2006-04-06', 'SELL', 'IBM', 500, 53.00)]\n",
    "sql = \"insert into stocks values (?,?,?,?,?)\"\n",
    "for t in stocks:\n",
    "    c.execute(sql, t)\n",
    "    \n",
    "# or:\n",
    "#c.executemany(sql, stocks)"
   ]
  },
  {
   "cell_type": "code",
   "execution_count": 6,
   "metadata": {
    "collapsed": false
   },
   "outputs": [
    {
     "name": "stdout",
     "output_type": "stream",
     "text": [
      "[(u'2006-03-28', u'BUY', u'IBM', 1000.0, 45.0), (u'2006-04-06', u'SELL', u'IBM', 500.0, 53.0)]\n"
     ]
    }
   ],
   "source": [
    "# Retrieve all results matching a query.\n",
    "\n",
    "t = ('IBM',)\n",
    "c.execute('select * from stocks where symbol=?', t)\n",
    "\n",
    "results = c.fetchall()\n",
    "print results"
   ]
  },
  {
   "cell_type": "code",
   "execution_count": 7,
   "metadata": {
    "collapsed": false
   },
   "outputs": [
    {
     "name": "stdout",
     "output_type": "stream",
     "text": [
      "(u'2006-03-28', u'BUY', u'IBM', 1000.0, 45.0)\n",
      "(u'2006-04-06', u'SELL', u'IBM', 500.0, 53.0)\n"
     ]
    }
   ],
   "source": [
    "# Retrieve the results matching a query, one by one.\n",
    "\n",
    "from itertools import count\n",
    "\n",
    "c.execute('select * from stocks where symbol=?', t)\n",
    "for row in c:\n",
    "    print row"
   ]
  },
  {
   "cell_type": "code",
   "execution_count": 8,
   "metadata": {
    "collapsed": false
   },
   "outputs": [],
   "source": [
    "# Cleanly close the database.\n",
    "\n",
    "c.close()  # or: del c\n",
    "conn.close()"
   ]
  },
  {
   "cell_type": "code",
   "execution_count": 8,
   "metadata": {
    "collapsed": false
   },
   "outputs": [],
   "source": []
  }
 ],
 "metadata": {},
 "nbformat": 4,
 "nbformat_minor": 0
}