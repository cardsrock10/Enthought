{
 "cells": [
  {
   "cell_type": "markdown",
   "metadata": {},
   "source": [
    "Pandas Plotting Demo\n",
    "====================\n",
    "\n",
    "This demo loads data into a DataFrame for students to be able to follow along the Pandas' visualization slides. It uses data from the stock market: the adjusted close prices between 2005 and 2009 for a few major stocks: Apple, Google, Microsoft, Procter and Gamble and Exxon Mobil. \n",
    "\n",
    "Feel free to inject your own data into this demo..."
   ]
  },
  {
   "cell_type": "code",
   "execution_count": null,
   "metadata": {
    "collapsed": false
   },
   "outputs": [],
   "source": [
    "%matplotlib inline"
   ]
  },
  {
   "cell_type": "code",
   "execution_count": null,
   "metadata": {
    "collapsed": false
   },
   "outputs": [],
   "source": [
    "import pandas as pd\n",
    "from pandas.tools.plotting import autocorrelation_plot, scatter_matrix"
   ]
  },
  {
   "cell_type": "code",
   "execution_count": null,
   "metadata": {
    "collapsed": false
   },
   "outputs": [],
   "source": [
    "df = pd.read_table(\"adj_close_stock_data_yahoo_2005_2010.txt\", parse_dates=[[0,1,2]], sep=\"\\s+\", na_values=[\"-\"])\n",
    "df = df.set_index(\"year_month_day\")\n",
    "df.head()"
   ]
  },
  {
   "cell_type": "code",
   "execution_count": null,
   "metadata": {
    "collapsed": false
   },
   "outputs": [],
   "source": [
    "# Let's extract a few time series from that DataFrame\n",
    "ts = df['AAPL']\n",
    "ts2 = df[\"MSFT\"]"
   ]
  },
  {
   "cell_type": "code",
   "execution_count": null,
   "metadata": {
    "collapsed": false
   },
   "outputs": [],
   "source": [
    "ts.plot()"
   ]
  },
  {
   "cell_type": "code",
   "execution_count": null,
   "metadata": {
    "collapsed": false
   },
   "outputs": [],
   "source": [
    "# Adding imports from matplotlib since we will be using some of its functions:\n",
    "import matplotlib.pyplot as plt"
   ]
  },
  {
   "cell_type": "code",
   "execution_count": null,
   "metadata": {
    "collapsed": false
   },
   "outputs": [],
   "source": [
    "ts.plot(figsize=(12,9))\n",
    "plt.xlabel(\"\")\n",
    "plt.savefig(\"aapl.png\")"
   ]
  },
  {
   "cell_type": "code",
   "execution_count": null,
   "metadata": {
    "collapsed": false
   },
   "outputs": [],
   "source": [
    "ts.plot()\n",
    "ts2.plot()\n",
    "plt.xlabel(\"\")\n",
    "plt.legend()"
   ]
  },
  {
   "cell_type": "code",
   "execution_count": null,
   "metadata": {
    "collapsed": false
   },
   "outputs": [],
   "source": [
    "# Because in this case we are plotting the second curve on a different y-axis, \n",
    "# the clean up of the xlabel needs to happen after each call to plot. For the \n",
    "# same reason the calls to ylabel are also interleaved.\n",
    "ts.plot()\n",
    "plt.xlabel(\"\")\n",
    "plt.ylabel(\"AAPL\")\n",
    "ts2.plot(secondary_y=True)\n",
    "plt.xlabel(\"\")\n",
    "plt.ylabel(\"MSFT\")\n",
    "plt.legend()\n",
    "# Note: There is currently an imperfection in pandas' and matplotlib's  \n",
    "# interaction which leads to only 1 line showing in the legend when using the \n",
    "# secondary_y. The fix is beyond the scope of this demo: \n",
    "# http://stackoverflow.com/questions/21988196/legend-only-shows-one-label-when-plotting-with-pandas"
   ]
  },
  {
   "cell_type": "code",
   "execution_count": null,
   "metadata": {
    "collapsed": false
   },
   "outputs": [],
   "source": [
    "df.plot(subplots=True, style='b')\n",
    "plt.xlabel(\"\")"
   ]
  },
  {
   "cell_type": "code",
   "execution_count": null,
   "metadata": {
    "collapsed": false
   },
   "outputs": [],
   "source": [
    "from numpy.random import rand\n",
    "df2 = pd.DataFrame(rand(10,4), columns=list('abcd'))\n",
    "df2.plot(kind='bar', stacked=True)"
   ]
  },
  {
   "cell_type": "code",
   "execution_count": null,
   "metadata": {
    "collapsed": false
   },
   "outputs": [],
   "source": [
    "# The KDE estimator can't deal with missing values. Let's drop the days when there is a missing value\n",
    "df2 = df.dropna()\n",
    "df2.plot(kind=\"kde\")"
   ]
  },
  {
   "cell_type": "code",
   "execution_count": null,
   "metadata": {
    "collapsed": false
   },
   "outputs": [],
   "source": [
    "bp = df.boxplot()"
   ]
  },
  {
   "cell_type": "code",
   "execution_count": null,
   "metadata": {
    "collapsed": false
   },
   "outputs": [],
   "source": [
    "sm = scatter_matrix(df)"
   ]
  }
 ],
 "metadata": {},
 "nbformat": 4,
 "nbformat_minor": 0
}